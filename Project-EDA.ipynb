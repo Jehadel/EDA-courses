{
 "cells": [
  {
   "cell_type": "markdown",
   "id": "dda61429-2809-4415-9e55-a8ffe46dbc56",
   "metadata": {},
   "source": [
    "# Final project - Porgramming for Datascience part 2 - EDA - 2025"
   ]
  },
  {
   "cell_type": "markdown",
   "id": "1aee3dcc-ba3f-486e-adc1-23d843ab2da7",
   "metadata": {},
   "source": [
    "The notebook must be returned completed before May 12, 2025 to jean.delpech@adalab.fr\n",
    "\n",
    "Each project must be led by a group of 2 people\n",
    "\n",
    "You will chose a dataset among those listed here :\n",
    "\n",
    "https://archive.ics.uci.edu/dataset/368/facebook+metrics\n",
    "\n",
    "https://archive.ics.uci.edu/dataset/544/estimation+of+obesity+levels+based+on+eating+habits+and+physical+condition\n",
    "\n",
    "https://archive.ics.uci.edu/dataset/563/iranian+churn+dataset\n",
    "\n",
    "https://archive.ics.uci.edu/dataset/222/bank+marketing\n",
    "\n",
    "https://archive.ics.uci.edu/dataset/242/energy+efficiency\n",
    "\n",
    "https://archive.ics.uci.edu/dataset/555/apartment+for+rent+classified\n",
    "\n",
    "https://archive.ics.uci.edu/dataset/320/student+performance\n",
    "\n",
    "https://archive.ics.uci.edu/dataset/597/productivity+prediction+of+garment+employees\n",
    "\n",
    "https://archive.ics.uci.edu/dataset/186/wine+quality\n",
    "\n",
    "https://archive.ics.uci.edu/dataset/374/appliances+energy+prediction (attention : follow the link to github : https://github.com/LuisM78/Appliances-energy-prediction-data)\n",
    "\n",
    "You will conduct an EDA on the dataset of your choice.\n",
    "\n",
    "Your work should demonstrate the skills you have acquired:\n",
    "\n",
    "* data understanding (expose the context, what are the data, type, etc.)\n",
    "* preparing this data for future exploration and analysis\n",
    "* assessing data quality (missing values? outliers? If so, how do you manage them?)\n",
    "* creating insightful visualizations that inform your understanding of the data\n",
    "* identifying trends, formulating hypotheses, justifying choices (why this model, why this hypothesis, etc.)\n",
    "* conducting analyses concerning relationships between variables\n",
    "* interpreting analysis results (statistical inference, significance, etc.)\n",
    "* concluding by highlighting limitations and perspectives\n",
    "* the quality of the notebook will also be assessed: clarity, rigor in writing the code, structuring the analysis process and layout, readability, etc."
   ]
  },
  {
   "cell_type": "code",
   "execution_count": null,
   "id": "0033dcd1-85c7-4d82-b994-edb988ef2135",
   "metadata": {},
   "outputs": [],
   "source": []
  }
 ],
 "metadata": {
  "kernelspec": {
   "display_name": "Python 3 (ipykernel)",
   "language": "python",
   "name": "python3"
  },
  "language_info": {
   "codemirror_mode": {
    "name": "ipython",
    "version": 3
   },
   "file_extension": ".py",
   "mimetype": "text/x-python",
   "name": "python",
   "nbconvert_exporter": "python",
   "pygments_lexer": "ipython3",
   "version": "3.11.2"
  }
 },
 "nbformat": 4,
 "nbformat_minor": 5
}
