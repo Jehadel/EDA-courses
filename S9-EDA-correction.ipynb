{
 "cells": [
  {
   "cell_type": "markdown",
   "id": "7c2b4155-2708-4587-8fc2-51079ba7e387",
   "metadata": {},
   "source": [
    "# Basic Exploratory Analysis Demo"
   ]
  },
  {
   "cell_type": "markdown",
   "id": "f1b3067f-5805-446c-ad8c-1c914276e003",
   "metadata": {},
   "source": [
    "Import libraries useful for data exploration, including the dataviz library of your choice:"
   ]
  },
  {
   "cell_type": "code",
   "execution_count": 1,
   "id": "ac29f9be-b23c-4242-9382-7c0188670cab",
   "metadata": {},
   "outputs": [],
   "source": [
    "import numpy as np\n",
    "import pandas as pd\n",
    "import matplotlib.pyplot as plt\n",
    "import seaborn as sns"
   ]
  },
  {
   "cell_type": "markdown",
   "id": "d19a55a0-c4c4-4441-a8a8-e6139068804e",
   "metadata": {},
   "source": [
    "First, let's load the data (created by Josh Murrey, [downloadable here](https://www.kaggle.com/datasets/thedevastator/books-sales-and-ratings)) :"
   ]
  },
  {
   "cell_type": "code",
   "execution_count": 3,
   "id": "c7076687-9505-41df-887e-ecb9a2de4052",
   "metadata": {},
   "outputs": [
    {
     "data": {
      "text/html": [
       "<div>\n",
       "<style scoped>\n",
       "    .dataframe tbody tr th:only-of-type {\n",
       "        vertical-align: middle;\n",
       "    }\n",
       "\n",
       "    .dataframe tbody tr th {\n",
       "        vertical-align: top;\n",
       "    }\n",
       "\n",
       "    .dataframe thead th {\n",
       "        text-align: right;\n",
       "    }\n",
       "</style>\n",
       "<table border=\"1\" class=\"dataframe\">\n",
       "  <thead>\n",
       "    <tr style=\"text-align: right;\">\n",
       "      <th></th>\n",
       "      <th>index</th>\n",
       "      <th>Publishing Year</th>\n",
       "      <th>Book Name</th>\n",
       "      <th>Author</th>\n",
       "      <th>language_code</th>\n",
       "      <th>Author_Rating</th>\n",
       "      <th>Book_average_rating</th>\n",
       "      <th>Book_ratings_count</th>\n",
       "      <th>genre</th>\n",
       "      <th>gross sales</th>\n",
       "      <th>publisher revenue</th>\n",
       "      <th>sale price</th>\n",
       "      <th>sales rank</th>\n",
       "      <th>Publisher</th>\n",
       "      <th>units sold</th>\n",
       "    </tr>\n",
       "  </thead>\n",
       "  <tbody>\n",
       "    <tr>\n",
       "      <th>0</th>\n",
       "      <td>0</td>\n",
       "      <td>1975.0</td>\n",
       "      <td>Beowulf</td>\n",
       "      <td>Unknown, Seamus Heaney</td>\n",
       "      <td>en-US</td>\n",
       "      <td>Novice</td>\n",
       "      <td>3.42</td>\n",
       "      <td>155903</td>\n",
       "      <td>genre fiction</td>\n",
       "      <td>34160.0</td>\n",
       "      <td>20496.0</td>\n",
       "      <td>4.88</td>\n",
       "      <td>1</td>\n",
       "      <td>HarperCollins Publishers</td>\n",
       "      <td>7000</td>\n",
       "    </tr>\n",
       "    <tr>\n",
       "      <th>1</th>\n",
       "      <td>1</td>\n",
       "      <td>1987.0</td>\n",
       "      <td>Batman: Year One</td>\n",
       "      <td>Frank Miller, David Mazzucchelli, Richmond Lew...</td>\n",
       "      <td>eng</td>\n",
       "      <td>Intermediate</td>\n",
       "      <td>4.23</td>\n",
       "      <td>145267</td>\n",
       "      <td>genre fiction</td>\n",
       "      <td>12437.5</td>\n",
       "      <td>7462.5</td>\n",
       "      <td>1.99</td>\n",
       "      <td>2</td>\n",
       "      <td>HarperCollins Publishers</td>\n",
       "      <td>6250</td>\n",
       "    </tr>\n",
       "    <tr>\n",
       "      <th>2</th>\n",
       "      <td>2</td>\n",
       "      <td>2015.0</td>\n",
       "      <td>Go Set a Watchman</td>\n",
       "      <td>Harper Lee</td>\n",
       "      <td>eng</td>\n",
       "      <td>Novice</td>\n",
       "      <td>3.31</td>\n",
       "      <td>138669</td>\n",
       "      <td>genre fiction</td>\n",
       "      <td>47795.0</td>\n",
       "      <td>28677.0</td>\n",
       "      <td>8.69</td>\n",
       "      <td>3</td>\n",
       "      <td>Amazon Digital Services,  Inc.</td>\n",
       "      <td>5500</td>\n",
       "    </tr>\n",
       "    <tr>\n",
       "      <th>3</th>\n",
       "      <td>3</td>\n",
       "      <td>2008.0</td>\n",
       "      <td>When You Are Engulfed in Flames</td>\n",
       "      <td>David Sedaris</td>\n",
       "      <td>en-US</td>\n",
       "      <td>Intermediate</td>\n",
       "      <td>4.04</td>\n",
       "      <td>150898</td>\n",
       "      <td>fiction</td>\n",
       "      <td>41250.0</td>\n",
       "      <td>24750.0</td>\n",
       "      <td>7.50</td>\n",
       "      <td>3</td>\n",
       "      <td>Hachette Book Group</td>\n",
       "      <td>5500</td>\n",
       "    </tr>\n",
       "    <tr>\n",
       "      <th>4</th>\n",
       "      <td>4</td>\n",
       "      <td>2011.0</td>\n",
       "      <td>Daughter of Smoke &amp; Bone</td>\n",
       "      <td>Laini Taylor</td>\n",
       "      <td>eng</td>\n",
       "      <td>Intermediate</td>\n",
       "      <td>4.04</td>\n",
       "      <td>198283</td>\n",
       "      <td>genre fiction</td>\n",
       "      <td>37952.5</td>\n",
       "      <td>22771.5</td>\n",
       "      <td>7.99</td>\n",
       "      <td>4</td>\n",
       "      <td>Penguin Group (USA) LLC</td>\n",
       "      <td>4750</td>\n",
       "    </tr>\n",
       "  </tbody>\n",
       "</table>\n",
       "</div>"
      ],
      "text/plain": [
       "   index  Publishing Year                        Book Name  \\\n",
       "0      0           1975.0                          Beowulf   \n",
       "1      1           1987.0                 Batman: Year One   \n",
       "2      2           2015.0                Go Set a Watchman   \n",
       "3      3           2008.0  When You Are Engulfed in Flames   \n",
       "4      4           2011.0         Daughter of Smoke & Bone   \n",
       "\n",
       "                                              Author language_code  \\\n",
       "0                             Unknown, Seamus Heaney         en-US   \n",
       "1  Frank Miller, David Mazzucchelli, Richmond Lew...           eng   \n",
       "2                                         Harper Lee           eng   \n",
       "3                                      David Sedaris         en-US   \n",
       "4                                       Laini Taylor           eng   \n",
       "\n",
       "  Author_Rating  Book_average_rating  Book_ratings_count          genre  \\\n",
       "0        Novice                 3.42              155903  genre fiction   \n",
       "1  Intermediate                 4.23              145267  genre fiction   \n",
       "2        Novice                 3.31              138669  genre fiction   \n",
       "3  Intermediate                 4.04              150898        fiction   \n",
       "4  Intermediate                 4.04              198283  genre fiction   \n",
       "\n",
       "   gross sales  publisher revenue  sale price  sales rank  \\\n",
       "0      34160.0            20496.0        4.88           1   \n",
       "1      12437.5             7462.5        1.99           2   \n",
       "2      47795.0            28677.0        8.69           3   \n",
       "3      41250.0            24750.0        7.50           3   \n",
       "4      37952.5            22771.5        7.99           4   \n",
       "\n",
       "                       Publisher   units sold  \n",
       "0        HarperCollins Publishers        7000  \n",
       "1        HarperCollins Publishers        6250  \n",
       "2  Amazon Digital Services,  Inc.        5500  \n",
       "3             Hachette Book Group        5500  \n",
       "4         Penguin Group (USA) LLC        4750  "
      ]
     },
     "execution_count": 3,
     "metadata": {},
     "output_type": "execute_result"
    }
   ],
   "source": [
    "df = pd.read_csv('data/Books_Data_Clean.csv')\n",
    "df.head()"
   ]
  },
  {
   "cell_type": "markdown",
   "id": "882dce12-f64f-4877-8240-a46542e64ce5",
   "metadata": {},
   "source": [
    "Performing an exploratory data analysis is first and foremost about understanding the data. The best way to do this is to answer questions:\n",
    "- what are the data? What do they represent? How were they obtained?\n",
    "- what is their type?\n",
    "- are there any missing data? Outliers?\n",
    "\n",
    "Responses to these questions will help us to assess the quality of the data, to format them, to prepare \"cleaning\" procedures.\n",
    "To go further, it may be interesting to have additional information:\n",
    "- how are they distributed?\n",
    "- can we observe notable patterns?\n",
    "- can we quantify outliers?\n",
    "\n",
    "We can, then, once we have built a better knowledge of the data and improve our understanding (after an initial cleaning), ask more precise questions about the relationships between them (\"explanations\" or \"effects\" from a statistical point of view).\n",
    "\n",
    "Of course, all these steps and questions are interconnected. An EDA can quickly become \"labyrinthine\" with many avenues to explore in parallel, etc. Hence the interest in notebooks and writing them correctly (clarity, formatting, organization). It is an iterative process.\n",
    "\n",
    "Do not forget that originally a client, a department of our company, a colleague, asks a question. Here it could be: \"what predicts the number of sales of a book?\", or \"which books generate the highest turnover?\" or \"what are the characteristics that make a book receive good reviews?\". It is then our knowledge of the profession, our experience, our intuition that will guide us. Being a data scientist is not just about knowing libraries like Pandas or Seaborn, otherwise a simple tool like ydata-profiling would be sufficient to make a very good data analyst!\n",
    "\n",
    "So let's start from the beginning: let's see what the columns are, their types and whether there are null values, using the method that you should now know very well..."
   ]
  },
  {
   "cell_type": "code",
   "execution_count": 1,
   "id": "ccd8cc18-f3a3-4819-b000-72109e65e4e0",
   "metadata": {},
   "outputs": [],
   "source": [
    "df.info()"
   ]
  },
  {
   "cell_type": "markdown",
   "id": "5bf6bb65-1791-4ae8-9dce-1181d8cba980",
   "metadata": {},
   "source": [
    "First, let's try to understand what magnitude or observable each column represents. Let's take the time to read the labels, see what they relate to and identify the orders of magnitude of the numerical values and the type of the categories in the first lines of the dataframe.\n",
    "\n",
    "The publication years are coded by `float64`, which is strange. Should we convert this type to `int`?\n",
    "\n",
    "Another thing, there is an index column that is totally useless (duplicate with the dataframe index) and the column names are not formatted in a uniform way (sometimes with spaces, capital letters, underscores, etc.). To make manipulation of columns easier, let's standardize all the names : replace the spaces with underscores and remove the capital letters. (In the doc, look for the `.rename()` method)"
   ]
  },
  {
   "cell_type": "code",
   "execution_count": 3,
   "id": "ac57f160-c4a6-43ed-904d-0030c8edde93",
   "metadata": {},
   "outputs": [],
   "source": [
    "for c in df.columns:\n",
    "    df.rename(columns={c: c.replace(' ','_').lower()}, inplace=True)\n",
    "df.columns"
   ]
  },
  {
   "cell_type": "markdown",
   "id": "e646001f-c70f-41c9-91c0-99396052be88",
   "metadata": {},
   "source": [
    "What do we see for a particular column? Do you detect a problem?"
   ]
  },
  {
   "cell_type": "markdown",
   "id": "421a1a91-b1b0-4b76-9f92-0aba1a3ae186",
   "metadata": {},
   "source": [
    "« your answer here (edit the md cell)»"
   ]
  },
  {
   "cell_type": "markdown",
   "id": "3d7563bf-2e4b-40a3-954d-24a498af31c8",
   "metadata": {},
   "source": [
    "Fix this:"
   ]
  },
  {
   "cell_type": "code",
   "execution_count": 6,
   "id": "a2fd2d9b-3595-41a9-9cef-b192a0634063",
   "metadata": {},
   "outputs": [],
   "source": [
    "df.rename(columns={'publisher_': 'publisher'}, inplace=True)"
   ]
  },
  {
   "cell_type": "markdown",
   "id": "f62d16e4-5111-4d56-9f13-431fd44bcbe1",
   "metadata": {},
   "source": [
    "Remove the \"index\" column:"
   ]
  },
  {
   "cell_type": "code",
   "execution_count": 2,
   "id": "b3c158b2-f265-47de-a711-d1264ff3580d",
   "metadata": {},
   "outputs": [],
   "source": [
    "df.drop('index', inplace=True, axis=1)"
   ]
  },
  {
   "cell_type": "markdown",
   "id": "70bf0ba9-5ea1-4c65-9e97-bf872d43d829",
   "metadata": {},
   "source": [
    "Is there duplicates ?"
   ]
  },
  {
   "cell_type": "code",
   "execution_count": 3,
   "id": "6a46c530-10ed-496d-bfee-a6bacdaf05d5",
   "metadata": {},
   "outputs": [],
   "source": [
    "df.duplicated().sum()"
   ]
  },
  {
   "cell_type": "markdown",
   "id": "d64395e4-1e41-46f3-9948-b6a368dfb439",
   "metadata": {},
   "source": [
    "Another method to detect duplicates : create a dataframe where duplicates have been removed, and check if the two dataframes have the same number of lines "
   ]
  },
  {
   "cell_type": "code",
   "execution_count": 4,
   "id": "f4267645-26ac-4dbe-ad3b-54f985e29f0d",
   "metadata": {},
   "outputs": [],
   "source": [
    "df.drop_duplicates().shape"
   ]
  },
  {
   "cell_type": "markdown",
   "id": "14d4c976-c6a0-4726-965c-4291b1792fe2",
   "metadata": {},
   "source": [
    "If we get the same dimensions as in the original dataframe, we can conclude -> no duplicates.\n",
    "\n",
    "What about missing values? (is there a method to identify `NaN` values?)"
   ]
  },
  {
   "cell_type": "code",
   "execution_count": 5,
   "id": "a6c2c4fb-57c9-4798-965d-ae68dee77db6",
   "metadata": {},
   "outputs": [],
   "source": [
    "df.isna().sum()"
   ]
  },
  {
   "cell_type": "markdown",
   "id": "63f549af-9d97-476f-837c-db4922626c08",
   "metadata": {},
   "source": [
    "There are a few missing values. But before deciding how to handle them (delete? replace? by what method?), let's explore the values of these variables more closely."
   ]
  },
  {
   "cell_type": "markdown",
   "id": "fea78d54-60b2-4028-8fd9-88e1f1d02ccb",
   "metadata": {},
   "source": [
    "### Quantitative (numerical) variables"
   ]
  },
  {
   "cell_type": "markdown",
   "id": "1ee5e042-105a-4d39-b6d6-96d0e91e4d39",
   "metadata": {},
   "source": [
    "Which method allows to quickly explore numeric values ​​(it is not `.info()`, but the other one!)"
   ]
  },
  {
   "cell_type": "code",
   "execution_count": 6,
   "id": "368252d6-606d-4a06-abd5-0535d6b61972",
   "metadata": {},
   "outputs": [],
   "source": [
    "df.describe()"
   ]
  },
  {
   "cell_type": "markdown",
   "id": "61f1d30d-6e7b-4eee-9ad6-37b99a09d80a",
   "metadata": {},
   "source": [
    "This method gives us a first idea of the distribution of the numerical variables, and their order of magnitude. Let's look carefully at each column. First to \"understand\" the distribution of values in the different columns, but also to identify what we would perceive as anomalies. \n",
    "\n",
    "For example, we see that the average evaluation (rating) of the books is quite high, around 4 on a scale of 5 (apparently). We also observe that the number of votes for the evaluation of the books is significant. Order is of several tens of thousands, up to more than 200,000, and never less than 27,000, with an average value a little below 100,000. We also notice that the dispersion in the number of books sold is huge: more than 15,000 for an average of nearly 10,000, and a median very offset from the average. Etc.\n",
    "\n",
    "The minimum value for the year of publication is negative! Does this seem normal to you, or abnormal?"
   ]
  },
  {
   "cell_type": "markdown",
   "id": "65dac458-0b80-4601-a568-aa4af3828786",
   "metadata": {},
   "source": [
    "\n",
    "« Your response here » (edit the md cell)\n"
   ]
  },
  {
   "cell_type": "markdown",
   "id": "8850d2b5-bc82-4d02-9aaa-b2009392baa9",
   "metadata": {},
   "source": [
    "We will have to look more closely at the distribution of values. We will see this later. First, let's observe what the line looks like for which publication year is equal to -560 (think of boolean indexing):"
   ]
  },
  {
   "cell_type": "code",
   "execution_count": 7,
   "id": "3c35ffa4-2a6d-473d-8ee6-a3a746fd69e2",
   "metadata": {},
   "outputs": [],
   "source": [
    "df[df.publishing_year == -560]"
   ]
  },
  {
   "cell_type": "markdown",
   "id": "50fa5c4c-997a-4ba1-8f51-2534f2eb368f",
   "metadata": {},
   "source": [
    "Which author is this (feel free to google…)? Does the value for the year of publication make sense then?"
   ]
  },
  {
   "cell_type": "markdown",
   "id": "3d46422e-8423-4ecd-8a42-78c28b242dac",
   "metadata": {},
   "source": [
    "« your response here » (edit the md cell)"
   ]
  },
  {
   "cell_type": "markdown",
   "id": "a602f527-68ff-4ca5-8259-ff0a2ede9645",
   "metadata": {},
   "source": [
    "Get all books for which the publication year is negative:"
   ]
  },
  {
   "cell_type": "code",
   "execution_count": 8,
   "id": "32628444-e8f9-4c3c-9eb3-1b6f6626e98f",
   "metadata": {},
   "outputs": [],
   "source": [
    "df[df.publishing_year < 0]"
   ]
  },
  {
   "cell_type": "markdown",
   "id": "2ad29337-4022-4e4f-9205-98d9e9cae39e",
   "metadata": {},
   "source": [
    "We have a few, mainly from the Greco-Roman area, but also Chinese (Lao Tzu). We also note that we have a problem encoding non-Latin characters, Greek and Chinese, it seems."
   ]
  },
  {
   "cell_type": "markdown",
   "id": "b514771a-ca5b-4110-af02-3634be3cc054",
   "metadata": {},
   "source": [
    "### Qualitative (categorical) variables\n",
    "\n",
    "Let's see how many categories (= unique values) there are in each of these columns:"
   ]
  },
  {
   "cell_type": "code",
   "execution_count": 9,
   "id": "eab68f76-68d6-4f37-ab1e-d0f1f7d1087c",
   "metadata": {},
   "outputs": [],
   "source": [
    "for c in df.columns:\n",
    "    if not pd.api.types.is_numeric_dtype(df[c]):\n",
    "        print(c)\n",
    "        print(df[c].nunique())"
   ]
  },
  {
   "cell_type": "markdown",
   "id": "cd4a7032-badb-424a-bb1a-c502cf288fb9",
   "metadata": {},
   "source": [
    "This data concerns 735 different authors.\n",
    "\n",
    "Let's look at the distribution of the different categories for the last 4 columns which \"actually\" designate categories, that is to say a number of different categories quite reduced given the number of records (the titles of the works and the authors necessarily have many \"categories\" / unique values - are they really categories?).\n",
    "\n",
    "Which 4 columns do you consider to be \"actual\" categories?"
   ]
  },
  {
   "cell_type": "markdown",
   "id": "8cd0d6dc-20c6-426e-b073-157e644822a1",
   "metadata": {},
   "source": [
    "`'language_code'`, `'author_rating'`, `'genre'`, `'publisher'`"
   ]
  },
  {
   "cell_type": "markdown",
   "id": "01b44cb8-49c8-4b58-bfaa-2f4b69bde910",
   "metadata": {},
   "source": [
    "Let’s have a look on the distributions of these categories (for each column retained, how many different/unique values?)"
   ]
  },
  {
   "cell_type": "code",
   "execution_count": 1,
   "id": "7bbcae43-b343-4642-84c2-8038d5b6c6a6",
   "metadata": {},
   "outputs": [],
   "source": [
    "for c in ['language_code', 'author_rating', 'genre', 'publisher']:\n",
    "    print(df[c].value_counts(), '\\n')"
   ]
  },
  {
   "cell_type": "markdown",
   "id": "0d34e868-236d-4e0b-900e-642325dfcb87",
   "metadata": {},
   "source": [
    "What problems were found so far?\n",
    "\n",
    "Missing data:\n",
    "* books without titles (23)\n",
    "* language codes (53)\n",
    "* year of publication\n",
    "\n",
    "Outliers:\n",
    "* at least one negative value for the year of publication\n",
    "\n",
    "Duplicates:\n",
    "* clearly no duplicates\n",
    "\n",
    "Categorical variables:\n",
    "* for many categorical variables: language, publisher, genre and even author ratings, there are strong imbalances between categories in terms of counts"
   ]
  },
  {
   "cell_type": "markdown",
   "id": "45615962-fcec-4d13-91bc-628806b2f0d0",
   "metadata": {},
   "source": [
    "Show null values for the publication year :"
   ]
  },
  {
   "cell_type": "code",
   "execution_count": null,
   "id": "4e2c0e03-a898-4408-80bc-430e22d6f2ab",
   "metadata": {},
   "outputs": [],
   "source": [
    "df[df['publishing_year'].isna()] "
   ]
  },
  {
   "cell_type": "markdown",
   "id": "40dc2739-3c4b-488e-b991-17a7a6e65040",
   "metadata": {},
   "source": [
    "Show null values for titles :"
   ]
  },
  {
   "cell_type": "code",
   "execution_count": 3,
   "id": "692803be-dd5c-4cbf-828b-16e8c209a5b7",
   "metadata": {},
   "outputs": [],
   "source": [
    "df[df['book_name'].isna()] "
   ]
  },
  {
   "cell_type": "markdown",
   "id": "0d793375-d998-44b0-b67b-77c52c98d871",
   "metadata": {},
   "source": [
    "Show a *preview* or an extract (there are many values) of works whose language code is not specified:"
   ]
  },
  {
   "cell_type": "code",
   "execution_count": 4,
   "id": "1a957f36-d09a-440f-b2a2-84599d8a4c82",
   "metadata": {},
   "outputs": [],
   "source": [
    "df[df['language_code'].isna()].head() "
   ]
  },
  {
   "cell_type": "markdown",
   "id": "2d1a6481-df14-441d-bb32-a6f7d4891142",
   "metadata": {},
   "source": [
    "Missing values only concern categorical variables here.\n",
    "We note that books other than English are very much in the minority. The `language_code` may not have much weight in the analyses.\n",
    "Furthermore, since each book has a different title, it is also unlikely to observe an effect of the title on the other variables - unless we study very precisely regularities in the titles (format, lexicon, structure, length, etc.) which we are not going to do for now.\n",
    "Finally, the unknown year of publication concerns a single book (whose title and language are also unknown). The year on the other hand can be an important variable, but since it only concerns one book, this missing value will have little effect.\n",
    "\n",
    "We may be tempted to delete the lines with missing values, but if it will only slightly affect the effects of the variables concerned, we would at the same time delete other variables which are complete and may be relevant for future analyses. The situation is slightly different for the missing year.\n",
    "\n",
    "On the other hand, analyzing books that we are not able to identify because we do not know the title is a bit strange. We can doubt the reliability of the information concerning them.\n",
    "\n",
    "Concerning the books, given the majority of books in English, we can assume that the non-coded languages are books that would have been in English anyway. Or were they not coded because they did not correspond to any listed language? Let's see if the authors' surnames can help us decide? (display authors for books without language code)"
   ]
  },
  {
   "cell_type": "code",
   "execution_count": null,
   "id": "354f713e-ca4a-4b9b-82ac-5754c590a4a1",
   "metadata": {
    "scrolled": true
   },
   "outputs": [],
   "source": [
    "df[df['language_code'].isna()].author\n",
    "\n"
   ]
  },
  {
   "cell_type": "markdown",
   "id": "337c14f3-06ea-418d-a789-c13b12ad62ac",
   "metadata": {},
   "source": [
    " We note a majority of English-language authors, without mention of a translator and the title in English too. We can therefore assume that the first hypothesis is the correct one.\n",
    "\n",
    "For example, we could decide to:\n",
    "\n",
    "- drop books whose titles are missing, which will also delete the row where the year is missing\n",
    "\n",
    "- use a replacement method implemented in pandas that consists of replacing a missing value of a variable with the value of this variable for a nearby element (previous or next in the dataframe), which amounts to duplicating this value. This is practically equivalent to filling in the missing values at random, with a good chance of respecting a priori the frequency of appearance of the values in the sample, without impacting the average too much (see CLT)."
   ]
  },
  {
   "cell_type": "markdown",
   "id": "282bf965-806c-4b41-a857-727787c4011e",
   "metadata": {},
   "source": [
    "Remove lines with null values **for titles** (in the doc look for the `.dropna()` method):"
   ]
  },
  {
   "cell_type": "code",
   "execution_count": 6,
   "id": "91f6b288-f28b-4a73-a7fe-a14019bb2b7c",
   "metadata": {},
   "outputs": [],
   "source": [
    "df.dropna(subset='book_name', inplace=True)\n",
    "df.info()"
   ]
  },
  {
   "cell_type": "markdown",
   "id": "d1657fbc-a0dc-47d5-977a-8338ef55c623",
   "metadata": {},
   "source": [
    "**For records without a language code**, find a replacement method. Look for the `.ffill()` method in the docs."
   ]
  },
  {
   "cell_type": "code",
   "execution_count": 7,
   "id": "395aba79-085c-43c4-923f-f8238a669fc9",
   "metadata": {},
   "outputs": [],
   "source": [
    "df.language_code.ffill(inplace=True)\n",
    "df.info()"
   ]
  },
  {
   "cell_type": "markdown",
   "id": "9282c2f1-3279-42ba-9d30-63d3f9c1fe2b",
   "metadata": {},
   "source": [
    "Now that we have a prepared dataset that fits our needs, we can save it :"
   ]
  },
  {
   "cell_type": "code",
   "execution_count": null,
   "id": "5bbb88df-c613-4f82-91b4-e37010c56c5e",
   "metadata": {
    "scrolled": true
   },
   "outputs": [],
   "source": [
    "df.to_csv('data/Books_Data_Prepared_sav.csv')"
   ]
  },
  {
   "cell_type": "markdown",
   "id": "5da3f285-ef0b-4f4a-81ee-de1faa2ad60f",
   "metadata": {},
   "source": [
    "## Distributions\n",
    "\n",
    "Let's start with the first column, `publishing_year`, we were already intrigued by some of the values we found there, it can be enlightening to see more precisely the distribution, and if it justifies a first sorting of the data. Let's use Seaborn which is a good compromise between ease of use and readability. Do not forget the bare minimum for a figure: a title, axes labels, etc."
   ]
  },
  {
   "cell_type": "code",
   "execution_count": 1,
   "id": "a6782186-c081-451c-bfba-d1d9917c60ce",
   "metadata": {},
   "outputs": [],
   "source": [
    "sns.histplot(df['publishing_year'], kde = True)\\\n",
    "            .set(title='Distribution des années de publication');"
   ]
  },
  {
   "cell_type": "markdown",
   "id": "f18c2cb7-439f-42f1-af31-47c3aec349e4",
   "metadata": {},
   "source": [
    "We can see that the majority of publications took place around the 2000s, with an exponential progression. Let's see what happens from the 19th century onwards (here again, boolean indexing is our friend):"
   ]
  },
  {
   "cell_type": "code",
   "execution_count": 2,
   "id": "86658828-4e55-4fbb-b350-b263c8a0b043",
   "metadata": {},
   "outputs": [],
   "source": [
    "sns.histplot(df[df['publishing_year']>1800]['publishing_year'], kde = True);"
   ]
  },
  {
   "cell_type": "markdown",
   "id": "258b89d6-8d94-4c7a-9899-f1bb6c00550a",
   "metadata": {},
   "source": [
    "There has been an exponential increase in the number of publications since the 1970s, after a sharp increase since the post-war period.\n",
    "\n",
    "Other distributions may pique our curiosity:\n",
    "\n",
    "* number of books in each genre:"
   ]
  },
  {
   "cell_type": "code",
   "execution_count": 3,
   "id": "570497cb-061c-43b2-ade7-a40b54e71421",
   "metadata": {},
   "outputs": [],
   "source": [
    "sns.histplot(df['genre'])"
   ]
  },
  {
   "cell_type": "markdown",
   "id": "50b05d12-21ee-4353-87c8-70665b7e0df2",
   "metadata": {},
   "source": [
    "* Distribution of average book ratings. As a variable that we may try to explain, or which may serve as an explanatory variable, it is important to have a clue about the way it is distributed. Let’s see what it looks like:"
   ]
  },
  {
   "cell_type": "code",
   "execution_count": 4,
   "id": "b4d1d28e-7d1c-4bb3-bd21-7f56238b1826",
   "metadata": {},
   "outputs": [],
   "source": [
    "sns.histplot(df['book_average_rating'], kde = True);"
   ]
  },
  {
   "cell_type": "markdown",
   "id": "4cd0a3e8-140b-45de-b3fa-6bd77064b16e",
   "metadata": {},
   "source": [
    "* It’s not just books that receive a rating: authors too. Authors are classified into four categories, from beginner (novice) to famous (famous). Let’s see the distribution in those 4 categories (the calculation has already been done previously, but a data viz is clearer):"
   ]
  },
  {
   "cell_type": "code",
   "execution_count": 5,
   "id": "a12db66a-12d2-43b3-a522-ad836e55cb27",
   "metadata": {},
   "outputs": [],
   "source": [
    "sns.histplot(df['author_rating']); # note : plot the kde is nonsense for categorical variables"
   ]
  },
  {
   "cell_type": "markdown",
   "id": "db500bea-ee8a-4013-918c-8ede51377fd0",
   "metadata": {},
   "source": [
    "Even though these are categorical variables, there is a notion of order here: novice < intermediate < excellent < famous.\n",
    "\n",
    "The two central categories gather 92% of the evaluations (see figures above). It would therefore be necessary to do the data viz by ordering the categories correctly (look in the doc for the argument `order=`:"
   ]
  },
  {
   "cell_type": "code",
   "execution_count": 6,
   "id": "74786b9a-ea6a-4f14-8954-473eff54e083",
   "metadata": {},
   "outputs": [],
   "source": [
    "sns.countplot(x=df['author_rating'], order=['Novice', 'Intermediate', 'Excellent', 'Famous']);"
   ]
  },
  {
   "cell_type": "markdown",
   "id": "062c9304-9cb5-4dee-a0f1-03c3b0c821aa",
   "metadata": {},
   "source": [
    "We can ask ourselves what is, for each category, the average level of book ratings. We expect a certain correlation : the best rated books being written by excellent authors. To compare the average ratings in each category we can do a `.groupby()`. Assign the object thus created to `book_author_ratings` variable name.\n",
    "\n",
    "The methods you will need: a method that provides the quantity you are looking for (`.mean()`, `.count()`… think about what you would write in SQL!), and a method to sort.\n",
    "\n",
    "What type of object does `.groupby()` return? If you want a dataframe, you will have to use the `.reset_index()` method, and if you want to define an index, `.set_index()` (search in the doc, or experiment by yourself):"
   ]
  },
  {
   "cell_type": "code",
   "execution_count": 7,
   "id": "b1050b79-f2ae-470e-9044-a1f50e90f4e2",
   "metadata": {},
   "outputs": [],
   "source": [
    "book_author_ratings = df.groupby('author_rating')['book_average_rating']\\\n",
    "                            .mean()\\\n",
    "                            .sort_values(ascending = True)\\\n",
    "                            .reset_index()\\\n",
    "                            .set_index('author_rating') # .reset_index() pour avoir un dataframe, \n",
    "                                                        # .set_index() pour choisir une colonne en index si on veut\n",
    "book_author_ratings"
   ]
  },
  {
   "cell_type": "markdown",
   "id": "761e20bc-979c-4743-9220-b8ceaa9fc97c",
   "metadata": {},
   "source": [
    "Compare the type of `book_author_ratings` with and without `.reset_index()`:"
   ]
  },
  {
   "cell_type": "code",
   "execution_count": 8,
   "id": "b21834ac-739e-415c-a2b1-3c1b18ba38c7",
   "metadata": {},
   "outputs": [],
   "source": [
    "type(book_author_ratings)"
   ]
  },
  {
   "cell_type": "markdown",
   "id": "d4db0fda-35c2-45bd-b830-8a227405ba6d",
   "metadata": {},
   "source": [
    "Draw your figure (the average book rating by author category):"
   ]
  },
  {
   "cell_type": "code",
   "execution_count": 9,
   "id": "66957d0f-4509-4006-b463-fadb87564647",
   "metadata": {},
   "outputs": [],
   "source": [
    "sns.barplot(data = book_author_ratings, x='author_rating', y='book_average_rating');"
   ]
  },
  {
   "cell_type": "markdown",
   "id": "ebad2798-62e8-493e-84be-42ca09bc1b67",
   "metadata": {},
   "source": [
    "Unsurprisingly, the more an author is rated, the more his production is also rated.\n",
    "\n",
    "We can try to study what the dispersion is in the different categories. Boxplots can be useful for this (to make the figure look nice, think again about the `order=` argument)."
   ]
  },
  {
   "cell_type": "code",
   "execution_count": 11,
   "id": "2f9e7d14-bfb1-4ebf-a4ba-adb81afcfbd2",
   "metadata": {},
   "outputs": [],
   "source": [
    "sns.catplot(data = df, \n",
    "            x='author_rating', \n",
    "            y='book_average_rating', \n",
    "            kind='box',  \n",
    "            order=['Novice', 'Intermediate', 'Excellent', 'Famous']);"
   ]
  },
  {
   "cell_type": "markdown",
   "id": "0ef9d7af-1c03-4db0-94e8-3f3d045373b7",
   "metadata": {},
   "source": [
    "We notice a surprising phenomenon: the group with the greatest dispersion is that of intermediate authors, which can be explained by the fact that we have a lot of authors in this group, whose production can be unsurprisingly uneven (which explains their status), but in the more restricted club of famous authors, the dispersion is quite low (the scores are very tight around the median) but this does not prevent the presence of outliers, and in particular works certainly classified as disappointing: being among the best does not prohibit failure, and this can be quite bitter.\n",
    "\n",
    "Authors do not publish their books alone, generally, another actor participates: the publisher. Let's repeat the same analyses with publishers. Unfortunately, we do not have a categorization of publishers. Let's first look at how many different publishers there are, how many books are published by publishers and possibly who these publishers are:"
   ]
  },
  {
   "cell_type": "code",
   "execution_count": 13,
   "id": "407c029f-bb8a-4f65-a4fd-5fdebe2fadf4",
   "metadata": {},
   "outputs": [],
   "source": [
    "df.publisher.nunique()"
   ]
  },
  {
   "cell_type": "markdown",
   "id": "48037e55-ca69-4288-9754-27ab4370baf8",
   "metadata": {},
   "source": [
    "The number of publishers is actually quite small. We can therefore draw up the following list:"
   ]
  },
  {
   "cell_type": "code",
   "execution_count": 15,
   "id": "e99850c4-f7d1-4829-968f-8a2b04110b59",
   "metadata": {},
   "outputs": [],
   "source": [
    "df.publisher.unique()"
   ]
  },
  {
   "cell_type": "markdown",
   "id": "540b52a0-51b0-4681-9b1f-82fb44acf55a",
   "metadata": {},
   "source": [
    "We remember that there were strong imbalances between the counts of categorical variables:"
   ]
  },
  {
   "cell_type": "code",
   "execution_count": 16,
   "id": "1f82bf76-60bb-4a03-9cf0-48a2a6723ea8",
   "metadata": {},
   "outputs": [],
   "source": [
    "df['publisher'].value_counts()\\\n",
    "                .reset_index()\\\n",
    "                .set_index('publisher')"
   ]
  },
  {
   "cell_type": "markdown",
   "id": "56ea811d-16a6-48f3-8de0-e98dc2f27220",
   "metadata": {},
   "source": [
    "We can create a dataviz to visualize this. Since the names of the publishers are a bit long, it is better to put them in a legend with a color code. We can also make sure that the publishers are ordered in descending order of the number of works published:"
   ]
  },
  {
   "cell_type": "code",
   "execution_count": null,
   "id": "d81d038e-e8b8-4642-97e9-ef40e876e3b5",
   "metadata": {},
   "outputs": [],
   "source": [
    "# simple way : using .value_counts() to get an ordrered Series (and .reset_index() if you want an ordered dataframe)\n",
    "\n",
    " # print(df['publisher'] … your code …)\n",
    "\n",
    "# complex way (for training) : using .groupby()\n",
    "\n",
    "#count_ordered_publishers = df.groupby( … your code …\n",
    "\n",
    "# when categorical labels are long strings, it is better to\n",
    "# put label in a legend box\n",
    "fig, ax = plt.subplots()\n",
    "ax = sns.countplot(data =df, \n",
    "                   x='publisher', \n",
    "                   hue= 'publisher', \n",
    "                   hue_order = count_ordered_publishers, \n",
    "                   order=count_ordered_publishers, \n",
    "                   ax=ax)\n",
    "ax.set_xticklabels('')\n",
    "ax.legend(title='Publisher', \n",
    "          labels=count_ordered_publishers,\n",
    "          loc='upper right', \n",
    "          bbox_to_anchor=(1.65, 1.02));"
   ]
  },
  {
   "cell_type": "markdown",
   "id": "6a51cb03-bc68-4142-9132-d5c20d56638b",
   "metadata": {},
   "source": [
    "We note the overwhelming superiority of Amazon. We also note that one of the publishers was perhaps distributed among several categories (subsidiaries), quite marginal (n=4).\n",
    "\n",
    "We can directly plot the boxplots of the evaluations for these 9 publishers. `publisher` is a purely categorical variable, but we can order the results by increasing average ratings of the books (with a `.groupby()`, for practice):"
   ]
  },
  {
   "cell_type": "code",
   "execution_count": 34,
   "id": "9284bbef-2064-4f65-a5aa-118170e8a7a8",
   "metadata": {},
   "outputs": [],
   "source": [
    "rating_ordered_publishers = df.groupby('publisher')['book_average_rating']\\\n",
    "                            .mean()\\\n",
    "                            .sort_values(ascending = True)\\\n",
    "                            .reset_index()['publisher']\n",
    "\n",
    "fig, ax = plt.subplots()\n",
    "ax = sns.boxplot(data = df, \n",
    "                 hue='publisher', \n",
    "                 x='publisher', \n",
    "                 y='book_average_rating', \n",
    "                 ax=ax, \n",
    "                 order=ordered_publishers, \n",
    "                 hue_order = ordered_publishers)\n",
    "ax.set_xticklabels('')\n",
    "ax.legend(title='Publisher', \n",
    "          labels=ordered_publishers,\n",
    "          loc='upper right', \n",
    "          bbox_to_anchor=(1.65, 1.02));"
   ]
  },
  {
   "cell_type": "markdown",
   "id": "d8f9badb-adc6-4fb6-8513-c1f4e03b2b10",
   "metadata": {},
   "source": [
    "We could improve these dataviz by ensuring that the same color code is respected from one figure to another.\n",
    "\n",
    "In any case, we can see that the publishers whose books receive the most favorable evaluations are publishers with a very low number of publications (n=4), so it is not representative. Hachette group perhaps stands out by being, it seems, significantly less well rated than its competitors - to be verified with statistical tests (large error bars).\n",
    "\n",
    "Finally, another variable that can play a role is the language. Once again, there is a strong disparity in the number of books published in each language category.\n",
    "\n",
    "First, what are these languages?"
   ]
  },
  {
   "cell_type": "code",
   "execution_count": 17,
   "id": "b6beaf5d-bc1f-49f9-90c8-2aadfec07e15",
   "metadata": {},
   "outputs": [],
   "source": [
    "df.language_code.unique()"
   ]
  },
  {
   "cell_type": "markdown",
   "id": "9639610d-b42e-4431-9fc0-afc1d3152a7f",
   "metadata": {},
   "source": [
    "Let's quantify and visualize this:"
   ]
  },
  {
   "cell_type": "code",
   "execution_count": 18,
   "id": "832a5680-6cfd-4673-acd9-15354b29aa82",
   "metadata": {},
   "outputs": [],
   "source": [
    "ordered_languages = df['language_code'].value_counts().reset_index()\n",
    "print(ordered_languages.set_index('language_code'))\n",
    "\n",
    "sns.countplot(data =df, \n",
    "                x='language_code',  \n",
    "                order=ordered_languages.language_code)"
   ]
  },
  {
   "cell_type": "markdown",
   "id": "6a1aa828-09b7-46fb-87da-8be82d4ab579",
   "metadata": {},
   "source": [
    "English constitutes the overwhelming majority of published works, so the language will have only a marginal effect on other variables, especially since the number of books in languages other than English is negligible. It makes absolutely no sense to measure the effect of a category containing only one or two books.\n",
    "\n",
    "We can look at other elements to build a better representation of the data and the field of activity:\n",
    "\n",
    "- compare the gross sales of different publishers, authors, genres, etc.\n",
    "- the number of book sales (and not just the number of books published) by the different categories of authors, etc.\n",
    "- etc. It's up to you!\n",
    "\n",
    "To have an overview of the interactions between quantitative variables and their distributions, we can use the `.pairplot()` method:"
   ]
  },
  {
   "cell_type": "code",
   "execution_count": 19,
   "id": "1b7fe9e4-1e63-4eef-a211-76ca0c661b61",
   "metadata": {},
   "outputs": [],
   "source": [
    "sns.pairplot(df, height=2);"
   ]
  },
  {
   "cell_type": "markdown",
   "id": "230b06d6-5d2f-4553-9123-f8cd95492af6",
   "metadata": {},
   "source": [
    "However, it is not a good idea to systematically look at all the analyses and to retain those that seem to show something. The same goes for when we cross quantitative and qualitative variables. If this does indeed allow us to identify patterns and bring out intuitions, our approach should be justified by relying on hypotheses.\n",
    "\n",
    "Furthermore, identifying patterns when there is a lot of data and we systematically compare them does not necessarily bring much simplicity and clarity. In this case, proceeding step by step and consciously looking at each variable that we put in relation is not useless, even if it takes longer. In addition, if we were to identify a remarkable relationship, it would look like \"cherry picking\" (we take what suits our initial conviction), supported by no hypothesis, which is not a good practice and leads nowhere in itself. Nevertheless, it is entirely valid to be surprised by a correlation that we did not suspect, and it is quite possible that it will lead us to fruitful hypotheses. Moreover, if we already have a certain number of points of interest (we suspect different relationships between variables), we can save time by producing several visualizations that we want to explore or test in a single command line. It is therefore not an option to eliminate, but we cannot really make it the heart of our working method.\n",
    "\n",
    "Here we can be interested in different relationships. The `book_ratings_count` column seems to show a number of trends:\n",
    "\n",
    "- `book_ratings_count` and `sales_rank` seem to be very correlated (logical! is it really useful?)\n",
    "- `book_ratings_count` and `book_average_rating`, we can understand the relationship, but it is interesting to see in which direction this relationship goes\n",
    "- while we are at it, see the relationship between `book_ratings_count` and `gross_sales` (turnover generated by each book)\n",
    "- especially since `gross_sales` and `book_ratings_count` are very correlated,\n",
    "- which also leads us to see the link with `units_sold`: out of the number of books sold, how many are rated?\n",
    "- the `units_sold` line seems to show a particular phenomenon, this variable deserves to be looked at more closely, to understand. The variable `sale_price` is certainly linked to other variables…\n",
    "\n",
    "We can do the same for categorical variables, or for the link between categorical variables and certain quantitative variables.\n",
    "\n",
    "In this answer key, we will not exhaustively present all these explorations, we will leave it to you to do so, if you had not already done so during the exercise.\n",
    "\n",
    "For example, let's start looking at this variable `book_ratings_count`, and in particular how it is already distributed, if there are outliers: if we consider this variable as an explanatory variable, let's see how it behaves."
   ]
  },
  {
   "cell_type": "code",
   "execution_count": 20,
   "id": "20df29ef-4597-43be-b14c-8277ee5712b5",
   "metadata": {},
   "outputs": [],
   "source": [
    "sns.histplot(df['book_ratings_count'], kde = True);"
   ]
  },
  {
   "cell_type": "markdown",
   "id": "601c0b50-1538-4d02-9dda-b9e36bbc8fa6",
   "metadata": {},
   "source": [
    "The distribution seems slightly asymmetrical, with a certain skewness for the high values: some books are highly rated (certainly the best-sellers, the relationship is not linear, some works sweep everything)."
   ]
  },
  {
   "cell_type": "code",
   "execution_count": 21,
   "id": "1f2d9f81-8ec9-413b-9c47-6cee6760c3b6",
   "metadata": {},
   "outputs": [],
   "source": [
    "df['book_ratings_count'].describe()"
   ]
  },
  {
   "cell_type": "markdown",
   "id": "d88eae43-b415-42e1-a5b4-defef4721924",
   "metadata": {},
   "source": [
    "There is a ratio of 1 to 10 between the lowest rated book (27,000) and the highest rated book (200,000). The average is a little below 100,000."
   ]
  },
  {
   "cell_type": "code",
   "execution_count": 22,
   "id": "2bef26c4-c20f-43c4-93e0-bd96b6fff320",
   "metadata": {},
   "outputs": [],
   "source": [
    "sns.boxplot(df['book_ratings_count']);"
   ]
  },
  {
   "cell_type": "markdown",
   "id": "7a319ff3-be25-4a31-96a1-0f8d8036d26a",
   "metadata": {},
   "source": [
    "We see that the exceptional values ​​concern the works that are much more rated than the others, as we had started to suspect with the asymmetrical shape of the distribution. Using an IQR function we could isolate them and see in detail what they correspond to. (to be done in bonus question)\n",
    "\n",
    "For the moment, let's focus on the relationship between `book_ratings_count` and `book_average_rating`"
   ]
  },
  {
   "cell_type": "code",
   "execution_count": 23,
   "id": "b3aa6b9d-1d3c-42a4-abca-511ece8557b6",
   "metadata": {},
   "outputs": [],
   "source": [
    "sns.regplot(data =df, x='book_ratings_count', y='book_average_rating');"
   ]
  },
  {
   "cell_type": "markdown",
   "id": "f8fadb9f-e373-4dec-b5f1-44a2917468a2",
   "metadata": {},
   "source": [
    "What do you observe? What do you think? \n",
    "\n",
    "« your response here » (edit cell to answer)\n",
    "\n",
    "Let's see the relationship between gross sales and number of books rated:"
   ]
  },
  {
   "cell_type": "code",
   "execution_count": 49,
   "id": "75cf4290-28c4-4202-b2e6-9baf0aa02b08",
   "metadata": {},
   "outputs": [],
   "source": [
    "sns.regplot(data =df, x='book_ratings_count', y='gross_sales');"
   ]
  },
  {
   "cell_type": "markdown",
   "id": "39f7a97b-98fe-4f13-8c61-74841f7675ba",
   "metadata": {},
   "source": [
    "What do you observe? What do you think? \n",
    "\n",
    "« your response here » (edit cell to answer)\n",
    "\n",
    "Let’s now look at the trend between average score and turnover:"
   ]
  },
  {
   "cell_type": "code",
   "execution_count": 50,
   "id": "165a5d96-31d1-424d-ad72-eff82735b78c",
   "metadata": {},
   "outputs": [],
   "source": [
    "sns.regplot(data =df, x='book_average_rating', y='gross_sales');"
   ]
  },
  {
   "cell_type": "markdown",
   "id": "a567cc6a-c6f6-4e89-808e-660f0306a119",
   "metadata": {},
   "source": [
    "What do you observe? What do you think? \n",
    "\n",
    "« your response here » (edit cell to answer)\n",
    "\n",
    "Let’s look at the distribution of the number of books sold:"
   ]
  },
  {
   "cell_type": "code",
   "execution_count": 24,
   "id": "46035eac-9bf1-401a-b7dd-a43c3d90880d",
   "metadata": {},
   "outputs": [],
   "source": [
    "sns.histplot(df['units_sold'], kde = True);"
   ]
  },
  {
   "cell_type": "markdown",
   "id": "cd39495f-4c14-4a5d-bc62-ec3657fb2e13",
   "metadata": {},
   "source": [
    "What is remarkable about this distribution?\n",
    "\n",
    "The distribution is clearly bimodal !\n",
    "\n",
    "We can therefore try to categorize books between: big sales / small sales for example.\n",
    "\n",
    "There are obviously other variables that can be treated in this way: we can eliminate books published before a certain date, we can group publishers together (based on hypotheses!), etc. with the aim of creating new, simpler (or more complex) variables that synthesize some of our hypotheses or *parti pris*. This is also a step in data preparation.\n",
    "\n",
    "But before creating models to predict observables from other characteristics (of books), try to isolate the variables that, according to you, should be retained to explain either the number of books sold (`units_sold`), or the turnover they generate (`gross_sales`), and which variables do not belong in the model.\n",
    "\n",
    "We will check your choices in the next course where we will finally discuss regression models."
   ]
  },
  {
   "cell_type": "code",
   "execution_count": 25,
   "id": "994e5807-10b9-4153-bff8-82d0bba37de7",
   "metadata": {},
   "outputs": [],
   "source": [
    "\n",
    "# now, it’s up to you !\n",
    "\n"
   ]
  },
  {
   "cell_type": "code",
   "execution_count": null,
   "id": "49538658-856d-46d1-9484-fe7031f0a738",
   "metadata": {},
   "outputs": [],
   "source": []
  }
 ],
 "metadata": {
  "kernelspec": {
   "display_name": "Python 3 (ipykernel)",
   "language": "python",
   "name": "python3"
  },
  "language_info": {
   "codemirror_mode": {
    "name": "ipython",
    "version": 3
   },
   "file_extension": ".py",
   "mimetype": "text/x-python",
   "name": "python",
   "nbconvert_exporter": "python",
   "pygments_lexer": "ipython3",
   "version": "3.11.2"
  }
 },
 "nbformat": 4,
 "nbformat_minor": 5
}
