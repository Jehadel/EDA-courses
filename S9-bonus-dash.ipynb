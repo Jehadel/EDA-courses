{
 "cells": [
  {
   "cell_type": "markdown",
   "id": "f7856cd8-88c4-4954-a1d2-460c60624b67",
   "metadata": {},
   "source": [
    "# Introduction to Dash\n",
    "\n",
    "This course is **optional** and is intended for students who have mastered the basic courses on basic data exploration and data visualization, have some knowledge of web programming, and who want to go further by discovering how to offer a dashboard accessible to their audience via a web server.\n",
    "\n",
    "If you keep struggling with the basics of EDA or Python programming, focus on these difficulties and don’t stop working hard to master these basic skills. You can return to this notebook later, after the course, once you have assimilated it.\n",
    "\n",
    "If you feel confident about your skills, install `dash` in the course virtual environment :"
   ]
  },
  {
   "cell_type": "code",
   "execution_count": null,
   "id": "eaf652a2-e44d-4e07-b60c-58dc749295b6",
   "metadata": {},
   "outputs": [],
   "source": [
    "!pip install dash"
   ]
  },
  {
   "cell_type": "markdown",
   "id": "b72dc9d9-3246-4814-9007-d7267364fd76",
   "metadata": {},
   "source": [
    "[Dash](https://dash.plotly.com/) is a framework build upon:\n",
    "\n",
    "* [Flask](https://flask.palletsprojects.com/en/stable/), a lightweight framework for web development with Python,\n",
    "* [Plotly](https://plotly.com/graphing-libraries/) that you already know, a library to create interactive charts in Python,\n",
    "* [React](https://fr.legacy.reactjs.org/), a frontend javascript framework used to create user interfaces\n",
    "\n",
    "Plotly and Dash have the same editor: [Plotly](https://plotly.com). Dash allows Python programmers to develop data web apps and interactive dashboads. Let’s see how it works."
   ]
  },
  {
   "cell_type": "markdown",
   "id": "903a4e3d-e2c0-4c20-8234-9191b28fdb9c",
   "metadata": {},
   "source": [
    "## Dash basics\n",
    "\n",
    "### Hello world\n",
    "\n",
    "Run the cell below. Naturally, nothing should happen :"
   ]
  },
  {
   "cell_type": "code",
   "execution_count": null,
   "id": "70232d42-7668-40d7-9978-1c95f9648a8a",
   "metadata": {},
   "outputs": [],
   "source": [
    "from dash import Dash, html\n",
    "\n",
    "app = Dash()\n",
    "\n",
    "app.layout = [html.Div(children='Hello World!')]"
   ]
  },
  {
   "cell_type": "markdown",
   "id": "db7400e4-77a5-44f6-b3aa-2ebda3646694",
   "metadata": {},
   "source": [
    "Now, run the cell below : you should see the (classical) `Hello world!` message appear int the output zone of the cell :"
   ]
  },
  {
   "cell_type": "code",
   "execution_count": null,
   "id": "5d2bcb8d-c91f-4134-aed2-e3ab59ab207f",
   "metadata": {},
   "outputs": [],
   "source": [
    "app.run(debug=True)"
   ]
  },
  {
   "cell_type": "markdown",
   "id": "b1e62508-c704-4ec6-ac74-bd3e557f0e59",
   "metadata": {},
   "source": [
    "Open a new tab (or a new window) in your web browser, and go to the `http://127.0.0.1:8050/` url : `Hello world!` should also appear on the web page displayed.\n",
    "You will see a blue disc button at the right bottom, it gives access to some informations and actions useful to debug the app. It appears because we have activated the debug mode by setting `debug` to `True`.\n",
    "\n",
    "Congratulation, you have just created a web app and started a Python web server!\n",
    "\n",
    "Another – and standard – way to run this app is to copy the code below in a Python file – let’s name it `hello-wolrd-app.py` and run the python file with the CLI command `python hello-world-app.py` (or `python3 hello-world-app.py` if you are not in a virtual env, which is very very bad practice). \n",
    "\n",
    "```python\n",
    "from dash import Dash, html\n",
    "\n",
    "app = Dash()\n",
    "\n",
    "app.layout = [html.Div(children='Hello World!')]\n",
    "\n",
    "if __name__ == '__main__':\n",
    "    app.run(debug=True)\n",
    "```\n",
    "\n",
    "Then open the `http://127.0.0.1:8050/` url in your favorite web browser.\n",
    "A web app is designed to be served by a computer (a server) continuously over the internet, not to be just locked in a notebook, actually."
   ]
  },
  {
   "cell_type": "markdown",
   "id": "14aca089-61c8-4aee-929f-7119967d0192",
   "metadata": {},
   "source": [
    "### Some interactivity : dataviz selection\n",
    "\n",
    "Of course `dash` can do a lot more than simply write sentences and serve them in minimal web pages.\n",
    "It was designed to create interactive dashboards. Let’s build an example :\n"
   ]
  },
  {
   "cell_type": "code",
   "execution_count": null,
   "id": "ffab4da1-8194-47a6-937e-55ae10af788d",
   "metadata": {},
   "outputs": [],
   "source": [
    "from dash import Dash, html, dash_table, dcc, callback, Output, Input\n",
    "import pandas as pd\n",
    "import plotly.express as px"
   ]
  },
  {
   "cell_type": "markdown",
   "id": "90265a13-bf0c-4d3c-9026-8f7731cee757",
   "metadata": {},
   "source": [
    "* `Dash()` is the class which implement our app\n",
    "* `html` is the module that allows us to call HTML components to format text, pictures, etc. in our webpage\n",
    "* `dash_table` is the module that allows us to store data (dataframe, etc.) in `DashTable` objects\n",
    "* `dcc` is a module containing several Dash components (dcc stands for \"Dash Core Components\"), among them is the `Graph()` class that allows us to display interactive visualizations, but also control elements like radio buttons, dropdown menus, etc.\n",
    "* `callback` is the module that deals with interactivity. It’s a complex concept. For now, just remember that callbacks manage the controls and the flow of information between controls and what our app do, and for that we need to have `Output` and `Input` classes.\n",
    "\n",
    "Let’s see in a step by step process how we made all those modules work together to build a dashboard/web app :\n",
    "\n",
    "#### 1. Load data\n",
    "\n",
    "In the EDA exercise on books sales, we have saved a prepared dataset. Let’s load it, we will build our dashboard to present some results we have found :"
   ]
  },
  {
   "cell_type": "code",
   "execution_count": null,
   "id": "0eed0624-1ae9-4095-a8ac-9fd6d1ec2e1e",
   "metadata": {},
   "outputs": [],
   "source": [
    "df = pd.read_csv('data/Books_Data_Prepared_sav.csv')"
   ]
  },
  {
   "cell_type": "markdown",
   "id": "602434ff-2501-46ed-9a45-560134e6943e",
   "metadata": {},
   "source": [
    "Let’s initialize our Dash app :"
   ]
  },
  {
   "cell_type": "code",
   "execution_count": null,
   "id": "8a1959a4-9c2e-4eae-8a8d-7fb231f673e5",
   "metadata": {},
   "outputs": [],
   "source": [
    "app = Dash()"
   ]
  },
  {
   "cell_type": "markdown",
   "id": "f8f0f8f9-01e7-40c3-97e9-19c30a0c374a",
   "metadata": {},
   "source": [
    "To present the data in a `dash_table`, we have to create a layout, which contains all the elements of the webpage :"
   ]
  },
  {
   "cell_type": "code",
   "execution_count": null,
   "id": "b2db865c-f228-4770-a312-1f84594f2cdb",
   "metadata": {},
   "outputs": [],
   "source": [
    "app.layout = dash_table.DataTable(data=df.to_dict('records'), page_size = 10)"
   ]
  },
  {
   "cell_type": "markdown",
   "id": "8b67948b-fceb-4b35-9ccf-64177d0622a1",
   "metadata": {},
   "source": [
    "`.DataTable()` gets a `data` argument, a dictionnary, that’s why we use `.to_dict()` to convert the dataframe. `'records'` indicates how the method has to interpret the data in the dictionnary, in our example each column name will be a key, and the column values, the value (see [documentation](https://pandas.pydata.org/docs/reference/api/pandas.DataFrame.to_dict.html)).\n",
    "\n",
    "##### Note : Notebooks and Dash\n",
    "\n",
    "Personnally I don’t think that it is good idea to build the app cells after cells in a notebook, things can become quickly messy. It can have its pedagogical interest, allowing us to play around and see how some changes can affect the app, but if an app is already running, you can’t 're'-run it. So don’t launch a cell containing the `app.run()` code several times. To see the effects of your modifications you should rather go the url `http://127.0.0.1:8050` and refresh the page. For you personal use, as I think that notebooks don’t provide any beneficial advantages, I would instead advise you to write directly `.py` files with your favorite text editor. If you think that notebook brings you any advantage (if you don’t like to shift between your editor and brower, if you want to keep things in one place, or if you think that notebooks make the introduction of small changes and testing easier), consider to install the `jupyter_dash` package in your virtual environment. It will allow you to run Dash apps inside your notebook.\n",
    "\n",
    "Simply import :\n",
    "\n",
    "```python\n",
    "from jupyter_dash import JupyterDash\n",
    "```\n",
    "\n",
    "Then instatiate your app with:\n",
    "```python\n",
    "app = JupyterDash()\n",
    "```\n",
    "rather than `app = Dash()`\n",
    "\n",
    "You will be able to run the server in 3 different modes :\n",
    "\n",
    "1. `mode=external` : the app will be launched in a seperate browser tab or window, as usual\n",
    "2. `mode=inline` : the app will be launched in the output area of the window\n",
    "3. `mode=jupyterlab` : the app will be launched in another JupyterLab tab\n",
    "\n",
    "Just run the app with the mode you chose :\n",
    "\n",
    "```python\n",
    "app.run_server(mode='inline', height=600, width = '80%')\n",
    "```\n",
    "\n",
    "I will not use `jupyter_dash` in this notebook, because I want to show you a genuine Dash code. it’s up to you to adapt the code if you want to give `jupyer_dash` a try.\n",
    "\n",
    "If you feel that things are getting out of control, feel free to restart the kernel at anytime and execute only the cells you need to build your app. That’s not very elegant, but writing a code snippet that stops the app programmatically is a bit out of the scope of this course (but possible).\n",
    "\n",
    "Now, run the app (if it is not already running, if it’s running, just jump to [http://127.0.0.1:8050/](http://127.0.0.1:8050/) and refresh).\n",
    "\n",
    "The next cell contains the complete code if you want to copy it in an `app.py` file (name it as you want to identify it):"
   ]
  },
  {
   "cell_type": "code",
   "execution_count": null,
   "id": "c1dd9662-90ac-4ac8-8311-fa3fd8a59bab",
   "metadata": {},
   "outputs": [],
   "source": [
    "from dash import Dash, html, dash_table, dcc, callback, Output, Input\n",
    "import pandas as pd\n",
    "import plotly.express as px\n",
    "\n",
    "df = pd.read_csv('data/Books_Data_Prepared_sav.csv')\n",
    "\n",
    "app = Dash()\n",
    "\n",
    "app.layout = dash_table.DataTable(data=df.to_dict('records'), page_size = 10)\n",
    "\n",
    "if __name__ == '__main__':\n",
    "    app.run(debug=True)"
   ]
  },
  {
   "cell_type": "markdown",
   "id": "fe9be1a3-ca99-4fc0-b521-aa1a82597ca5",
   "metadata": {},
   "source": [
    "The table appearing onto the webpage display the number of rows defined as `page_size` (10 here), and controls allow to read the same number of next rows, and so on, to explore the table.\n",
    "\n",
    "\n",
    "The layout can be defined as a list of components (visit [W3schools courses](https://www.w3schools.com/html/) if you need a HTML/CSS refresher) to create a more elaborated and informative webpage (if you have written an `app.py` file, just replace the definition of `app.layout`): "
   ]
  },
  {
   "cell_type": "code",
   "execution_count": null,
   "id": "02fa944d-d008-443c-ab99-a522e8b2c3d3",
   "metadata": {},
   "outputs": [],
   "source": [
    "app.layout = [\n",
    "    html.Div([\n",
    "    html.H1('Books sales database',\n",
    "            style={'color': 'blue',\n",
    "                   'fontsize': '40px'}),\n",
    "    html.Hr(),\n",
    "    html.H2('Table'),\n",
    "    dash_table.DataTable(data=df.to_dict('records'), page_size = 10)\n",
    "    ])]"
   ]
  },
  {
   "cell_type": "markdown",
   "id": "658675a8-3324-45cc-a8fb-7e5d753fb206",
   "metadata": {},
   "source": [
    "Look at the result at [http://127.0.0.1:8050/](http://127.0.0.1:8050/) (refresh).\n",
    "\n",
    "#### 2. Improve table\n",
    "\n",
    "DashTable have many features that work out-of-the-box and gives interactivity (sorting, filtering…)."
   ]
  },
  {
   "cell_type": "code",
   "execution_count": null,
   "id": "4cf7bc70-1e2f-4e51-9a39-78001340dfb2",
   "metadata": {},
   "outputs": [],
   "source": [
    "df.columns # just to remember what the data columns are named"
   ]
  },
  {
   "cell_type": "markdown",
   "id": "308f0d60-44d3-45ba-839e-c83468f6d561",
   "metadata": {},
   "source": [
    "Observe what this code do:"
   ]
  },
  {
   "cell_type": "code",
   "execution_count": null,
   "id": "c5b09caa-35d8-47e7-a752-b50bc5d42394",
   "metadata": {},
   "outputs": [],
   "source": [
    "app.layout = [\n",
    "    html.Div([\n",
    "    html.H1('Books sales database',\n",
    "            style={'color': 'blue',\n",
    "                   'fontsize': '40px'}),\n",
    "    html.Hr(),\n",
    "    html.H2('Table'),\n",
    "    dash_table.DataTable(data=df.to_dict('records'),\n",
    "                         columns=[\n",
    "                            {'name': 'Idx', 'id': 'Unnamed: 0', 'type': 'numeric', 'selectable': True, 'clearable': True, 'editable': True},\n",
    "                            {'name': 'Publishing Year', 'id': 'publishing_year', 'type': 'numeric'},\n",
    "                            {'name': 'Title', 'id': 'book_name', 'type': 'text'},\n",
    "                            {'name': 'Author', 'id': 'author', 'type': 'text'},\n",
    "                            {'name': 'Language', 'id': 'language_code', 'type': 'text'},\n",
    "                            {'name': 'Author rating', 'id': 'author_rating', 'type':'text'},\n",
    "                            {'name': 'Book rating', 'id': 'book_average_rating', 'type':'numeric'},\n",
    "                            {'name': 'Rating counts', 'id': 'book_ratings_count', 'type':'numeric'},\n",
    "                            {'name': 'Genre', 'id': 'genre', 'type':'text'},\n",
    "                            {'name': 'Gross Sales', 'id': 'gross_sales', 'type': 'numeric'},\n",
    "                            {'name': 'Publisher revenues', 'id': 'publisher_revenue', 'type':'numeric',  'format': {'specifier': '$.2f'}},\n",
    "                            {'name': 'Price', 'id': 'sale_price', 'type':'numeric'},\n",
    "                            {'name': 'Sales rank', 'id': 'sales_rank', 'type':'numeric'},\n",
    "                            {'name': 'Publisher', 'id': 'publisher', 'type': 'text'},\n",
    "                            {'name': 'Units sold', 'id': 'units_sold', 'type': 'numeric',},\n",
    "                        ],\n",
    "                           \n",
    "                        # Features\n",
    "                        editable=True,\n",
    "                        sort_action='native',\n",
    "                        filter_action='native',\n",
    "                        row_selectable=\"multi\",\n",
    "                        row_deletable=True,\n",
    "                        page_size=10,\n",
    "\n",
    "                        # Format\n",
    "                        style_cell={\n",
    "                            'textAlign': 'left',\n",
    "                            'fontFamily': 'Arial',\n",
    "                            'color' : 'grey',\n",
    "                            'padding': '5px 10px'\n",
    "                        },\n",
    "                        style_header={\n",
    "                            'textAlign': 'center',\n",
    "                            'backgroundColor': 'rgb(230, 230, 230)',\n",
    "                            'fontWeight': 'bold'\n",
    "                        })\n",
    "    ])]"
   ]
  },
  {
   "cell_type": "markdown",
   "id": "b4bc8b7b-116f-403b-8968-914e69f0b233",
   "metadata": {},
   "source": [
    "(Same: just replace the `app.layout` definition in you `app.py` if you don’t use the notebook. I will stop repeating this instruction now).\n",
    "\n",
    "* observe the change in the table format (header, cells…)\n",
    "* you can sort according to each column (little arrow in the headers)\n",
    "* you can edit (only write numbers) the index column, you can delete the whole column value (the eraser icon in the header), etc.\n",
    "* you can filter data (write the criteria/pattern you are looking for in the celle just below the header)\n",
    "* you can select or drop rows (click on checkbox in the second column or crosses in the first column), without any effect for the moment"
   ]
  },
  {
   "cell_type": "markdown",
   "id": "86bd6814-f262-4b9b-97a4-350c41b1e911",
   "metadata": {},
   "source": [
    "#### 3. Add a graph\n",
    "\n",
    "You can simply call plotly express methods to plot data :"
   ]
  },
  {
   "cell_type": "code",
   "execution_count": null,
   "id": "6c826a65-6517-4a57-8460-ce5fc018ec04",
   "metadata": {},
   "outputs": [],
   "source": [
    "app.layout = [\n",
    "    html.Div([\n",
    "    html.H1('Books sales database',\n",
    "            style={'color': 'blue',\n",
    "                   'fontsize': '40px'}),\n",
    "    html.Hr(),\n",
    "    html.H2('Table'),\n",
    "    dash_table.DataTable(data=df.to_dict('records'),\n",
    "                         columns=[\n",
    "                            {'name': 'Idx', 'id': 'Unnamed: 0', 'type': 'numeric'},\n",
    "                            {'name': 'Publishing Year', 'id': 'publishing_year', 'type': 'numeric'},\n",
    "                            {'name': 'Title', 'id': 'book_name', 'type': 'text'},\n",
    "                            {'name': 'Author', 'id': 'author', 'type': 'text'},\n",
    "                            {'name': 'Language', 'id': 'language_code', 'type': 'text'},\n",
    "                            {'name': 'Author rating', 'id': 'author_rating', 'type':'text'},\n",
    "                            {'name': 'Book rating', 'id': 'book_average_rating', 'type':'numeric'},\n",
    "                            {'name': 'Rating counts', 'id': 'book_ratings_count', 'type':'numeric'},\n",
    "                            {'name': 'Genre', 'id': 'genre', 'type':'text'},\n",
    "                            {'name': 'Gross Sales', 'id': 'gross_sales', 'type': 'numeric'},\n",
    "                            {'name': 'Publisher revenues', 'id': 'publisher_revenue', 'type':'numeric',  'format': {'specifier': '$.2f'}},\n",
    "                            {'name': 'Price', 'id': 'sale_price', 'type':'numeric'},\n",
    "                            {'name': 'Sales rank', 'id': 'sales_rank', 'type':'numeric'},\n",
    "                            {'name': 'Publisher', 'id': 'publisher', 'type': 'text'},\n",
    "                            {'name': 'Units sold', 'id': 'units_sold', 'type': 'numeric',},\n",
    "                        ],\n",
    "                           \n",
    "                        # Features\n",
    "                        sort_action='native',\n",
    "                        filter_action='native',\n",
    "                        page_size=10,\n",
    "\n",
    "                        # Format\n",
    "                        style_cell={\n",
    "                            'textAlign': 'left',\n",
    "                            'fontFamily': 'Arial',\n",
    "                            'color' : 'grey',\n",
    "                            'padding': '5px 10px'\n",
    "                        },\n",
    "                        style_header={\n",
    "                            'textAlign': 'center',\n",
    "                            'backgroundColor': 'rgb(230, 230, 230)',\n",
    "                            'fontWeight': 'bold'\n",
    "                        })\n",
    "    ]),\n",
    "    html.Div([\n",
    "        html.H2('Graph : publishing years distribution'),\n",
    "        dcc.Graph(figure=px.histogram(df, x='publishing_year', marginal='box', width=800, height=600))\n",
    "    ]\n",
    "             \n",
    "            )]"
   ]
  },
  {
   "cell_type": "markdown",
   "id": "910938e0-320a-4ad0-b612-fcd3d3e0d0bc",
   "metadata": {},
   "source": [
    "##### More about the plotly Figure() class\n",
    "\n",
    "when we discovered the `plotly` library in the DataViz course, we didn’t really go that much into details.\n",
    "\n",
    "`Figure()` is a class of the `graph_objects` module :"
   ]
  },
  {
   "cell_type": "code",
   "execution_count": null,
   "id": "4b3cc894-6421-46b9-95e9-6a0306f6b241",
   "metadata": {},
   "outputs": [],
   "source": [
    "import plotly.graph_objects as go\n",
    "fig_example = go.Figure()\n",
    "fig_example"
   ]
  },
  {
   "cell_type": "markdown",
   "id": "f5b723da-2d49-4258-9805-ae7171c59888",
   "metadata": {},
   "source": [
    "You see that `Figure` object is an empty figure with all the interactive features (zoom, pan, autscale, etc.)\n",
    "\n",
    "Once we have instaciated a figure, we then can add elements (plot, etc.) to it (in a similar way we did with Matplolib):"
   ]
  },
  {
   "cell_type": "code",
   "execution_count": null,
   "id": "6cd1fb02-8f15-4d22-bef2-82b1ee89a83f",
   "metadata": {},
   "outputs": [],
   "source": [
    "fig_example.add_scatter(x=[1, 2, 3], y=[1, 2, 3])\n",
    "fig_example.show()"
   ]
  },
  {
   "cell_type": "markdown",
   "id": "c64b58c0-f792-49a1-819e-5f2c776e64dd",
   "metadata": {},
   "source": [
    "The `.show()` method has an interesting feature: if we provide the `'json'` argument to it, we can use this method to inspect a figure object:"
   ]
  },
  {
   "cell_type": "code",
   "execution_count": null,
   "id": "91fb31ac-0256-4536-832d-50774eb88718",
   "metadata": {},
   "outputs": [],
   "source": [
    "fig_example.show('json')"
   ]
  },
  {
   "cell_type": "markdown",
   "id": "66d15c53-e41d-4c69-8dbb-2a15dc7b7bd4",
   "metadata": {},
   "source": [
    "We remark two main attributes : `data` et `layout`\n",
    "\n",
    "##### The Figure.data attribute\n",
    "\n",
    "Nothing really complicated here:"
   ]
  },
  {
   "cell_type": "code",
   "execution_count": null,
   "id": "b837ac3f-1f61-4f61-a12b-59a52a826d6e",
   "metadata": {},
   "outputs": [],
   "source": [
    "fig_example.data"
   ]
  },
  {
   "cell_type": "markdown",
   "id": "d99a5497-4e1f-44d9-9792-b0c7a2549753",
   "metadata": {},
   "source": [
    "##### The Figure.layout attribute\n",
    "\n",
    "This attribute has a tree structure and contains most of the characteristics of our chart : `title`, `xaxis`, `xaxis.title`, `xaxis.ticks`, `yaxis`, etc. We can easily modify elements of the charts :"
   ]
  },
  {
   "cell_type": "code",
   "execution_count": null,
   "id": "97517716-735a-45c2-b964-dec6b168c48a",
   "metadata": {},
   "outputs": [],
   "source": [
    "fig_example.layout.title = 'Title of our example figure'\n",
    "fig_example.layout.xaxis.title = 'Observations x'\n",
    "fig_example.layout.yaxis.title = 'Observations y'\n",
    "fig_example.show()"
   ]
  },
  {
   "cell_type": "markdown",
   "id": "6db3991e-2298-4b06-948e-e9ae94f2a405",
   "metadata": {},
   "source": [
    "#### 4. Add controls (and callbacks)\n",
    "\n",
    "By default, Plotly figures are interactives : we can zoom in/out, get information, move along the plots, etc. using the mouse. With Dash, we can do more than that. For exemple we could use a slider to select the starting year from which we want to plot the distribution of the number of books published per year.\n",
    "\n",
    "To do that, we need :\n",
    "\n",
    "* to create a slider to select the starting year\n",
    "* to define a function that will plot a histogram from the selected starting year\n",
    "* a way to send the year selected to the function each time the dropdown menu is used\n",
    "\n",
    "That’s it: the big problem we have to address is how to get our different components (figure, dropdown menu, etc.) to communicate with each other ?\n",
    "\n",
    "The response is *callback functions*. Callback is not a simple concept. It design a function stored like would be a variable, a data, and that can be passed to another function as argument. This second function can then call the callback function during execution (like a function would call a variable/data). \n",
    "\n",
    "For us it just means that we can use functions that can be launched (or called) almost continuously (or at least a lot of time by seconds) to listen to some signals or event, and trigger actions if and when a certain signal or event occurs. For exemple we can define a callback that listen to a slider, and when a value (a year) is selected, sends this value to another function we have defined, for example a function that would plot a chart in relation to this value (a histogram with data starting from the selected year).\n",
    "\n",
    "Thus, a `@callback` gets `Input()` from a component and pass them to a function that will provide outputs (data, figure, etc.) that will be sent as an `Output()` to another component. To identify the components from which and to which the information/data goes, we assign `id`s to those components.\n",
    "The function that provide outputs is defined just below the `@callback` block (note : keywords with a `@` prefixes are called decorators and precede the function that they \"decorate\").\n",
    "\n",
    "The code for the callback function will look like this :\n",
    "\n",
    "```python\n",
    "@callback(\n",
    "    Output(component_id='component-that-will-receive-output', component_property='property-that-will-be-modified') # Output() ALWAYS precede Input()\n",
    "    Input(component_id='component-that-provide-input', component_property='property-that-represent-input')\n",
    "    )\n",
    "def function_name(input_value):\n",
    "    #does thing with the input_value \n",
    "    return my_output\n",
    "```\n",
    "\n",
    "A diagram may help :\n",
    "\n",
    "![Dash callback functions input-output diagram](./images/Dash-callback-input-output.png)\n",
    "\n",
    "Below i wrote the code for a very simple callback : an `.Input()` component (a simple field) takes some text as input, and this text is just copied below in a `.div` component:"
   ]
  },
  {
   "cell_type": "code",
   "execution_count": null,
   "id": "5373f418-cf87-4623-9355-c375966fd832",
   "metadata": {},
   "outputs": [],
   "source": [
    "app.layout = [\n",
    "    html.H1('Simplest callback exemple'),\n",
    "    html.Div([\n",
    "        \"Input: \",\n",
    "        dcc.Input(id='my-input', value='default (initial) text', type='text')\n",
    "    ]),\n",
    "    html.Br(),\n",
    "    html.Div(id='my-output')\n",
    "]\n",
    "\n",
    "@app.callback(\n",
    "    Output(component_id='my-output', component_property='children'),\n",
    "    Input(component_id='my-input', component_property='value')\n",
    ")\n",
    "def update_output_div(input_value):\n",
    "    return f'Output: {input_value}'"
   ]
  },
  {
   "cell_type": "markdown",
   "id": "efde1705-efe0-4385-902e-ad4b29bd5bec",
   "metadata": {},
   "source": [
    "Go to  [http://127.0.0.1:8050/](http://127.0.0.1:8050/) (don’t forget to refresh), you should observe that as soon as you write something in the input field, it is copied in the div below.\n",
    "\n",
    "Take your time to read the code above and understand how it is related to what you see in your browser (the different components, and the effect of the callback, the data flow, how components are refered to, etc.).\n",
    "\n",
    "If you run the app in debug mode, by clicking the bottom-right button called “Callbacks“ you can inspect the callback architecture. Here is the diagram displayed for the code above. It is a very simple structure:\n",
    "\n",
    "![callback debug schema](./images/Callback-debug.png)\n",
    "\n",
    "You can see the id of the input component (`'my-input'`), output component (`'my-output'`), what properties are taken as input and output (`'value'` and `'children'`) and the \"reaction time\" of the callback. This diagram is simple here, but it can be useful for more complex interactions.\n",
    "\n",
    "Now something more useful for our use case :\n",
    "\n",
    "- we will give an `id` to the `dcc.Graph()` component (`id='distribution-chart'`)\n",
    "- we will introduce a `dcc.Slider()` component to display a… slider, we’re going to give it the `id='year-slider'`\n",
    "- we will define a callback function that will receive a `selected_year` from the slider component, filter the data to plot a distribution chart starting at this year, and provide this figure as output to the graph component :"
   ]
  },
  {
   "cell_type": "code",
   "execution_count": null,
   "id": "e5a877a8-77a0-4702-ad51-62a1ef68316c",
   "metadata": {},
   "outputs": [],
   "source": [
    "app.layout = [\n",
    "    html.Div(children='Callback example'),\n",
    "    dcc.Graph(id='distribution-chart'),\n",
    "    dcc.Slider(\n",
    "        df['publishing_year'].min(),\n",
    "        df['publishing_year'].max(),\n",
    "        step=None,\n",
    "        value=df['publishing_year'].min(),\n",
    "        marks={str(year): str(year) for year in df['publishing_year'].unique()},\n",
    "        id='year-slider'\n",
    "    )\n",
    "]\n",
    "\n",
    "# The callback to make the components communicate\n",
    "@app.callback(\n",
    "    Output(component_id='distribution-chart', component_property='figure'),\n",
    "    Input(component_id='year-slider', component_property='value')\n",
    ")\n",
    "def update_figure(selected_year):\n",
    "    filtered_df = df[df['publishing_year']>= selected_year]\n",
    "    fig = px.histogram(filtered_df, x='publishing_year', marginal='box')\n",
    "    return fig"
   ]
  },
  {
   "cell_type": "markdown",
   "id": "99866249-7847-43e8-8700-7daa16ab69ba",
   "metadata": {},
   "source": [
    "##### Of course we could provide (as seen in the diagram above): \n",
    "\n",
    "- multiple inputs (one input from the slider to select year, another input from a dropdown menu to select the column for which we want to plot the distribution, and buttons to select color of the bins, for example…)\n",
    "- or one input that contains multiple values (like a list)\n",
    "- multiple outputs : one callback listening to certain inputs could modify multiple outputs in return, for exemple one chart and one table\n",
    "\n",
    "Now, we know how to create an interactive dashboard. I encourage you to create a dashboard to present the EDA we made on the books dataset in the last sessions. Explore [the Dash website](https://dash.plotly.com/) and its documentation to see which component would be useful.\n",
    "\n",
    "Before trying that, pursue your reading for the moment, the next section will teach you more about how to create elaborate dashboards."
   ]
  },
  {
   "cell_type": "markdown",
   "id": "e2092242-8e02-4c52-bb81-d5fa79e62086",
   "metadata": {},
   "source": [
    "## A dashboard to follow the stocks market\n",
    "\n",
    "Interactive dashboard can be very usefull when we want to monitor data in real time. There is a lot of usecases, let’s focus on the analysis of time series and more specifically, financial data from the stocks market.\n",
    "\n",
    "We will try to create a dashboard to monitor the evolution of stocks values in time, with the following features :\n",
    "\n",
    "- a drop-down menu to select the stock whose price we want to plot\n",
    "- checkboxes to indicate whether we want to display moving averages (long and short)\n",
    "- a field to enter the desired durations for calculating moving averages\n",
    "\n",
    "To create this dashboard, we will learn two more things :\n",
    "\n",
    "- how to get financial data in real time by requesting an API, it’s an important way to retrieve data apart from requesting directly a DBMS\n",
    "- use Dash Bootstrap components to create a well structured layout.\n",
    "\n",
    "### Get data through an API\n",
    "\n",
    "First we will need the `yfinance` API for Yahoo! Finance."
   ]
  },
  {
   "cell_type": "code",
   "execution_count": null,
   "id": "20a2213c-35b8-4c10-86a6-4a7b7858827d",
   "metadata": {},
   "outputs": [],
   "source": [
    "!pip install yfinance"
   ]
  },
  {
   "cell_type": "code",
   "execution_count": null,
   "id": "35e99cda-3625-4924-9e72-08f9c5cd5625",
   "metadata": {},
   "outputs": [],
   "source": [
    "import yfinance as yf"
   ]
  },
  {
   "cell_type": "markdown",
   "id": "0fff8c83-7eab-4f77-96e5-15ebea19866d",
   "metadata": {},
   "source": [
    "API means \"Application Programming Interface\". The important word here is *interface*. API are a set of functions that allows to access to data and functionnalities stored or implemented by other programs, applications, services, operating systems, etc. This interface role allows very different programs to communicate and exchange data even if they are not written in the same language, do not run on the same machines, or the same operating systems. An API allows a program to ask another programm to perform certain (predefined) actions. \n",
    "\n",
    "In a online context, a program running on a computer connected to internet can receive requests from other programs, this requests being defined within the API. Most of the time, those requests are formulated to get data. The actual standard to exchange data on internet is JSON (a dictionnary), so we often have to parse JSON to other data structures (dataframe, etc.). Requests are sent to *endpoints*, that you can understand as specific addresses where you can get specific data. \n",
    "\n",
    "![Web API illustration](./images/API.png)\n",
    "\n",
    "\n",
    "`yfinance` is a very convenient library that allows us to query the Yahoo! Finance API in a very transparent and simple way.\n",
    "\n",
    "For example, if we want to get the Nvidia stock price for the last 3 years, we can directly download a dataframe (no parse needed !) containing various price informations about this stock just by providing the API the ticker (a short code to identify stocks) and the datetime intervall we are interested in: "
   ]
  },
  {
   "cell_type": "code",
   "execution_count": null,
   "id": "2ff4dd2f-3fa9-4db3-a55d-f6a1cd347628",
   "metadata": {},
   "outputs": [],
   "source": [
    "import datetime as dt\n",
    "\n",
    "years = 3"
   ]
  },
  {
   "cell_type": "code",
   "execution_count": null,
   "id": "fbcee5b5-b567-4407-a83a-4972ae6ad3a2",
   "metadata": {},
   "outputs": [],
   "source": [
    "enddate = dt.datetime.now()\n",
    "startdate = enddate - dt.timedelta(days = 365 * years)"
   ]
  },
  {
   "cell_type": "code",
   "execution_count": null,
   "id": "5a86960e-a090-48da-86dd-c79cbc833644",
   "metadata": {},
   "outputs": [],
   "source": [
    "df = yf.download('NVDA', start=startdate, end=enddate)\n",
    "df.head()"
   ]
  },
  {
   "cell_type": "code",
   "execution_count": null,
   "id": "24cf123e-74d8-4e0f-a47a-c77102aefa3c",
   "metadata": {},
   "outputs": [],
   "source": [
    "df.tail()"
   ]
  },
  {
   "cell_type": "markdown",
   "id": "f34c17f2-a250-476b-b752-48a3b69ace40",
   "metadata": {},
   "source": [
    "We obtain a dataframe that contain day-by-day Nvidia stock value indicators for 3 years.\n",
    "\n",
    "Note : you maybe have noticed that the column index is a multi-index… It’s a more efficient structure (imagine the case we follow several stocks), and to access a particular column we just have to use a tuple : "
   ]
  },
  {
   "cell_type": "code",
   "execution_count": null,
   "id": "79cb7024-1cdd-4417-b5b4-d85a460c6a0b",
   "metadata": {},
   "outputs": [],
   "source": [
    "df.loc['2025-03-10',('Close', 'NVDA')]"
   ]
  },
  {
   "cell_type": "code",
   "execution_count": null,
   "id": "de05c2e2-59d6-4338-9745-4dc55e610fb3",
   "metadata": {},
   "outputs": [],
   "source": [
    "px.line(df['Close'])"
   ]
  },
  {
   "cell_type": "markdown",
   "id": "aa9084ec-02ec-44d1-92bb-72ebd4faf814",
   "metadata": {},
   "source": [
    "That’s all ! \n",
    "\n",
    "For our project let’s get the data for the 5 last years of the values known as the \"magnificent seven\", a group of major tech values that account for a large portion of the market's performance : Microsoft (MSFT), Amazon (AMZN), Meta (META), Apple (AAPL), Alphabet (GOOG), Nvidia (NVDA) and Tesla (TSLA) ."
   ]
  },
  {
   "cell_type": "code",
   "execution_count": null,
   "id": "e12b8762-7100-44c1-aa68-315d63076118",
   "metadata": {},
   "outputs": [],
   "source": [
    "tickers = ['MSFT', 'AMZN', 'META', 'AAPL', 'GOOG', 'NVDA', 'TSLA']\n",
    "years = 5\n",
    "startdate = enddate - dt.timedelta(days = 365 * years)\n",
    "\n",
    "df = yf.download(tickers, start=startdate, end=enddate)\n",
    "df.head()"
   ]
  },
  {
   "cell_type": "markdown",
   "id": "707af3ff-fdbb-41b3-88c4-b9a5164bffaa",
   "metadata": {},
   "source": [
    "We should save those raw data : if we need them, we won’t need to call the Yahoo! API again (it’s never a good idea to send queries to frequently to an API)."
   ]
  },
  {
   "cell_type": "code",
   "execution_count": null,
   "id": "4eb327ac-62f9-4058-a853-672eb760e854",
   "metadata": {},
   "outputs": [],
   "source": [
    "df.to_csv('data/7magnificients-stock-prices.csv')"
   ]
  },
  {
   "cell_type": "markdown",
   "id": "6f8770e6-7afc-49c8-89e2-4467b291a4f6",
   "metadata": {},
   "source": [
    "It will be simple to load back the data :"
   ]
  },
  {
   "cell_type": "code",
   "execution_count": null,
   "id": "dcaaed65-bf51-4672-8847-7e402ddfe1fd",
   "metadata": {},
   "outputs": [],
   "source": [
    "df = pd.read_csv('data/7magnificients-stock-prices.csv')"
   ]
  },
  {
   "cell_type": "markdown",
   "id": "b2679e1b-d674-4c3e-9d19-a272b8b447ea",
   "metadata": {},
   "source": [
    "But pay attention : the `.csv` format can’t deal with multi-index, the loaded df will be different :"
   ]
  },
  {
   "cell_type": "code",
   "execution_count": null,
   "id": "0cc0b402-ed3b-4c9c-8519-c491833d29a5",
   "metadata": {},
   "outputs": [],
   "source": [
    "df.head()"
   ]
  },
  {
   "cell_type": "markdown",
   "id": "b36b0cca-eeda-41cd-8adf-8da4d4eba56b",
   "metadata": {},
   "source": [
    "There is several way to deal with this difficulty (a multi-index saved in .csv). We could save the dataframe in another file format than a `.csv` file. For example we can directly save a dataframe (an object) \"as it is\" to a binary file using the [pickle](https://docs.python.org/3/library/pickle.html) module. Another method would be to read the dataframe using MultiIndex methods (see [this stack overflow post](https://stackoverflow.com/questions/21318865/read-multi-index-on-the-columns-from-csv-file) or [this medium post](https://medium.com/@gotashirato/how-to-import-csv-file-with-multi-level-columns-python-basics-and-a-question-b67cbbbc174d) on the subject. In the following we will just use the methods we already now (this will make us review the methods for manipulating indexes).\n",
    "\n",
    "But before manipulating our data, what are the statistics and indicator that we will use ?"
   ]
  },
  {
   "cell_type": "markdown",
   "id": "dfcd09c2-2ff2-419c-baa5-f03250ac526e",
   "metadata": {},
   "source": [
    "### Moving averages\n",
    "\n",
    "Before we start to build our dashboard, we must determine what we want to display on it.\n",
    "\n",
    "In the financial domain, and especially for technical analysis, we will not simply limit ourselves to plot the selected stock price. A very important tool used in financial technical analysis, and more generally when we analyse time series data – a kind of data we often deal with when we study climate, epidemiology, economy, etc. –  is the moving average.\n",
    "\n",
    "A simple exploratory method that can give us insights is to compare a long moving average (average of the last 200 hundred observations before each point for example) with a short moving average (average of the last 30 observations beafore each point for example). The goal of a moving average is to reduce noise (\"smoothing\" the lines) and capture inversion in trends. When the lines of a short and a long averages cross (when one passes above or below the other), this kind of event is ofen the sign of a change in the tendancy or the dynamic of the phenomenon we observe, because this is a sign that rapid change is conflicting with a long-term trend. Let’s see that more in details with our data.\n",
    "\n",
    "#### Simple Moving Average (SMA)\n",
    "\n",
    "The SMA is simply the average on the *k* previous increments of time / records of a given observation. For short (or fast) SMA *k* is small, and for long SMA *k* is big. Typically, when we analyse stock prices, *k = 50* for short SMA and *k = 200* for long SMA. To plot a SMA line, we simply calculate the SMA for each point. Concerning our data, let’s say that we focus on the closing price. Each point of a short SMA line will be calculated as the average of the closing price for the 50 days before (200 days before for long SMA). It implies that we can’t calculate short SMA for the 50 first points of our time serie because they will not be preceded by enough points to calculate SMA. \n",
    "\n",
    "Formula to get the SMA on a span time (duration) *k* at day *n*:\n",
    "\n",
    "$$\n",
    "SMA_k = \\frac{1}{k} \\sum_{i=n-k+1}^{n} S_i\n",
    "$$\n",
    "With *S<sub>i</sub>* being the stock price on day *i* ≤ *n*.\n",
    "\n",
    "Here the code to calculate simple SMAs (long and short), providing *k* values (setting default to 200 and 50 respectively) and a dataframe : it will add a `'short_SMA'` column and a `'long_SMA'` column to the dataframe. Feel free to search the pandas documentation for methods you don’t know."
   ]
  },
  {
   "cell_type": "code",
   "execution_count": null,
   "id": "9110a101-11f5-4782-b7ce-1e633d51fd89",
   "metadata": {},
   "outputs": [],
   "source": [
    "def sma(df, short_k=50, long_k=200):\n",
    "    df['short_sma'] = df.close.rolling(window=short_k).mean()\n",
    "    df['long_sma'] = df.close.rolling(window=long_k).mean()"
   ]
  },
  {
   "cell_type": "markdown",
   "id": "dacac02c-b4db-488b-9f7d-8b7b4035b397",
   "metadata": {},
   "source": [
    "Before using this function, let’s create a dataframe by extracting the closing price of a given stock from our saved data. It will be the occasion to practice data preparation (again) :"
   ]
  },
  {
   "cell_type": "code",
   "execution_count": null,
   "id": "a53b01af-fd1a-4ec6-aa6f-c4a0155e9348",
   "metadata": {},
   "outputs": [],
   "source": [
    "df.head()"
   ]
  },
  {
   "cell_type": "markdown",
   "id": "7b4cde3f-054c-466d-92fb-c61b803e4e3e",
   "metadata": {},
   "source": [
    "There are numerous problems here: the 2 first rows are non-values (old columns name), datatypes seems mixed-up, etc. We would like to create a `df_TSLA` dataframe with a column `close` containing the closing price of the Tesla stock, and the date as index (whose column is named `'Price'` here…). First, let's extract the `'Close.1'` and the `'Price'` columns, ignoring the two first rows :  "
   ]
  },
  {
   "cell_type": "code",
   "execution_count": null,
   "id": "c15b41c6-1ee1-4066-ae17-8d4359f6a91f",
   "metadata": {},
   "outputs": [],
   "source": [
    "df_TSLA = df.loc[2:,['Close.1','Price']]"
   ]
  },
  {
   "cell_type": "code",
   "execution_count": null,
   "id": "1db274e7-f24f-4f19-995a-266573b0846b",
   "metadata": {},
   "outputs": [],
   "source": [
    "df_TSLA.head()"
   ]
  },
  {
   "cell_type": "markdown",
   "id": "d5c4df0e-901d-407b-b842-2364b7f2aa41",
   "metadata": {},
   "source": [
    "We rename the columns :"
   ]
  },
  {
   "cell_type": "code",
   "execution_count": null,
   "id": "a6c9a168-162a-4a9b-8d68-ed082c4a7717",
   "metadata": {},
   "outputs": [],
   "source": [
    "df_TSLA.rename(columns={'Price': 'date', 'Close.1':'close'}, inplace=True)\n",
    "df_TSLA.head()"
   ]
  },
  {
   "cell_type": "markdown",
   "id": "f77b4dda-e845-412a-a5ee-e3fe3a25dfe7",
   "metadata": {},
   "source": [
    "Convert the `'date'` column into `index` : "
   ]
  },
  {
   "cell_type": "code",
   "execution_count": null,
   "id": "8a563b29-1c69-46e3-b3f9-0afcc9c8268c",
   "metadata": {},
   "outputs": [],
   "source": [
    "df_TSLA.set_index('date', inplace=True)\n",
    "df_TSLA.head()"
   ]
  },
  {
   "cell_type": "markdown",
   "id": "6d1f5020-61cb-44b5-b332-5a3c904f451a",
   "metadata": {},
   "source": [
    "Datatype may be a subject, as `string` and `float` where mixed-up, there is a chance that the numbers we see are in fact `string` (objects) :"
   ]
  },
  {
   "cell_type": "code",
   "execution_count": null,
   "id": "315f5591-67cf-4cf8-9bae-511b2c8d4588",
   "metadata": {},
   "outputs": [],
   "source": [
    "df_TSLA.info()"
   ]
  },
  {
   "cell_type": "markdown",
   "id": "67a3dc2d-0c56-410e-b08f-4db9cc6dd049",
   "metadata": {},
   "source": [
    "Indeed, these are objects. Let’s cast closing values to `float` :"
   ]
  },
  {
   "cell_type": "code",
   "execution_count": null,
   "id": "7276c6b9-8785-47d9-8066-aad16bf3d2d7",
   "metadata": {},
   "outputs": [],
   "source": [
    "df_TSLA['close'] = pd.to_numeric(df_TSLA['close'])"
   ]
  },
  {
   "cell_type": "code",
   "execution_count": null,
   "id": "5faf8c7e-d2a9-4313-8025-e22885b087ab",
   "metadata": {},
   "outputs": [],
   "source": [
    "df_TSLA.info()"
   ]
  },
  {
   "cell_type": "markdown",
   "id": "e1a63ee3-dfdd-496a-9753-8969e3c55db8",
   "metadata": {},
   "source": [
    "Everything is ok now ! Good job. We can use our function to calculate simple SMAs :"
   ]
  },
  {
   "cell_type": "code",
   "execution_count": null,
   "id": "61b1c82f-75f0-49aa-ab23-7da3da21fd81",
   "metadata": {},
   "outputs": [],
   "source": [
    "sma(df_TSLA)\n",
    "df_TSLA.head()"
   ]
  },
  {
   "cell_type": "code",
   "execution_count": null,
   "id": "8dd05609-868c-455e-a385-faa34ac35c25",
   "metadata": {},
   "outputs": [],
   "source": [
    "df_TSLA.dropna(inplace=True)\n",
    "df_TSLA.head()"
   ]
  },
  {
   "cell_type": "markdown",
   "id": "082b9f96-25e7-4c32-8ba8-ddb9a9ebe5a7",
   "metadata": {},
   "source": [
    "We can see that the first lines (= the first dates) are NaN values, because SMA can’t be calculated for the *k* first observations as we have already mentioned. We should add a `.dropna()` line to our function :"
   ]
  },
  {
   "cell_type": "code",
   "execution_count": null,
   "id": "94962c5d-707a-4214-8868-4c491641e971",
   "metadata": {},
   "outputs": [],
   "source": [
    "def sma(df, short_k=50, long_k=200):\n",
    "    df['short_sma'] = df.close.rolling(window=short_k).mean()\n",
    "    df['long_sma'] = df.close.rolling(window=long_k).mean()\n",
    "    df.dropna(inplace=True)"
   ]
  },
  {
   "cell_type": "markdown",
   "id": "4595e33d-e85f-4a59-86ca-b6b6809dd87e",
   "metadata": {},
   "source": [
    "Let’s plot all the lines for the Tesla stock closing price :"
   ]
  },
  {
   "cell_type": "code",
   "execution_count": null,
   "id": "80ffd177-ec2a-4328-9b12-ca5101f4dc34",
   "metadata": {},
   "outputs": [],
   "source": [
    "fig = px.line(df_TSLA, title='Tesla stocks closing value - 5 years')\n",
    "fig.show()"
   ]
  },
  {
   "cell_type": "markdown",
   "id": "fc0b53a0-2ab3-4acf-adde-ebf0ddd3a2b0",
   "metadata": {},
   "source": [
    "#### Exponential moving average\n",
    "\n",
    "When we study the dynamic of change in time series, we may want to emphasises the influencce of the last observations. It can be reasonnable to think that the influence of events vanishes with time, older events having far less influence than recent one. We therefore can calculate a moving average giving more weight to the recent events than to the older ones. This kind of moving average is called \"Exponential Moving Average\" (EMA) as the weights decrease exponentially with time, and capture more quickly changes (inversion) in trends as it is more sensitive to recent observations. The EMA is defined in a recursive way :\n",
    "\n",
    "$$ EMA_t = \\{\n",
    "\\begin{array}{ll}\n",
    " S_1 & if & t=1 \\\\\n",
    " \\alpha S_t + (1 - \\alpha) EMA_{t-1}, & if & t>1 \n",
    "\\end{array}\n",
    "$$\n",
    "\n",
    "With *S<sub>t</sub>* being an observation (stock value) at time *t* and *EMA<sub>t</sub>* the EMA at time t. *α* is often called the *smoothing* parameter and depends of the time span (duration) *k*. It can be defined as follow :\n",
    "\n",
    "$$\n",
    "\\alpha = \\frac{smoothing}{k+1}\n",
    "$$\n",
    "\n",
    "with *smoothing* being a constant.\n",
    "\n",
    "Pandas has a built-in method to calculate EMA:"
   ]
  },
  {
   "cell_type": "code",
   "execution_count": null,
   "id": "30a76f80-7c3b-4f82-8a23-79f64df45552",
   "metadata": {},
   "outputs": [],
   "source": [
    "def ema(data, short=50, long=200):\n",
    "    data['short_ema'] = data.close.ewm(span=short, adjust=False).mean() # alpha is calculated depending on span (see the pd doc)\n",
    "    data['long_ema'] = data.close.ewm(span=long, adjust=False).mean()\n",
    "    data.dropna(inplace=True)"
   ]
  },
  {
   "cell_type": "markdown",
   "id": "01e018d9-f19c-4284-b488-e09d760304ca",
   "metadata": {},
   "source": [
    "By plotting EMA with SMA on the same chart, we can see that both short and long EMA follow more closely the variations of the observed curve than SMA:"
   ]
  },
  {
   "cell_type": "code",
   "execution_count": null,
   "id": "b05f316e-2543-433e-9678-e8ca8d0d6cc1",
   "metadata": {},
   "outputs": [],
   "source": [
    "ema(df_TSLA)\n",
    "fig2 = px.line(df_TSLA, title='Tesla stocks closing value - 5 years')\n",
    "fig2.show()"
   ]
  },
  {
   "cell_type": "markdown",
   "id": "0171bb5d-7b75-41cf-be5e-1da14816fbe0",
   "metadata": {},
   "source": [
    "Why not building a dashboard that would display SMA or EMS when the user asks for it/them on a given stock value ? \n",
    "\n",
    "Creating such a dashboard will be our task in the next section, where we will learn more about the possibilities that Dash offers to create elegant and interactive dashboards."
   ]
  },
  {
   "cell_type": "markdown",
   "id": "ed5468ab-a432-478d-8edc-db4f0ac0a968",
   "metadata": {},
   "source": [
    "### Bootstrap components\n",
    "\n",
    "The Plotly community has developed and (still) maintain an non-official (but supported by Plotly) module called *Dash Bootstrap Component* (dbc). [It has its own website](https://dash-bootstrap-components.opensource.faculty.ai/) and documentation. \n",
    "Dash Bootstrap make easier the creation of (nice) layouts. It provides themes, prebuilt components, a grid system to place component on the layout and manage responsiveness.\n",
    "\n",
    "Let’s see how we can use this to create a dashboard. Our project will use the following components :\n",
    "\n",
    "- a dropdown menu to select a stock\n",
    "- toggle buttons to display/hide moving averages\n",
    "- input fields to indicate the duration of the moving averages\n",
    "- other features you’d want to create\n",
    "\n",
    "Before you start this exercise, let’s see some the features Dash bootstrap has to offer : grid system, themes, etc. And let’s install and import Dash bootstrap :"
   ]
  },
  {
   "cell_type": "code",
   "execution_count": null,
   "id": "ef19424f-8a07-496f-bbf0-22770a4b9e69",
   "metadata": {},
   "outputs": [],
   "source": [
    "!pip install dash-bootstrap-components"
   ]
  },
  {
   "cell_type": "code",
   "execution_count": null,
   "id": "5d083758-9fc4-485c-a82f-a9ac86085e2a",
   "metadata": {},
   "outputs": [],
   "source": [
    "import dash_bootstrap_components as dbc"
   ]
  },
  {
   "cell_type": "markdown",
   "id": "993f4326-e603-4bac-a3d5-d4c2b75fddb2",
   "metadata": {},
   "source": [
    " #### Grid system\n",
    "\n",
    "  ![Dash component positionning illustration](./images/dash-grid-system.png)\n",
    "\n",
    " There is three ways to place components on the screen: \n",
    " - chain them in a `div` html component has we have done up to now. The components will simply appear stacked on top of each other\n",
    " - using \"classical\" positionning using CSS style properties, creating a container component, and placing other components inside\n",
    " - using the grid-system proposed by Dash bootstrap\n",
    "\n",
    "The first method is not a good way to create complex dashboard, but it is simple and works, for demonstration purposes for example.\n",
    "The second one is standard, precise, and gives us absolute freedom, but can quickly become tedious.\n",
    "The latter requires us to give up a little freedom, but has the merit of simplicity, especially if we want our app to be responsive.\n",
    "\n",
    "The grid system divides the screen in 12 columns, then we simply have to indicate at which column the left side of a component is placed, and how many columns is its width :\n",
    "\n",
    "![Dash grid-system columns and components illustration](./images/dash-grid-system-col.png)\n",
    "\n",
    "This system has two advantages : first you can quickly indicate the position of a component on the screen having the choice between a certain number of position, and secondly, regardless of the screen size (desktop, tablet or phone screen), your component will always be positioned proportionally in the same place. \n",
    "\n",
    "There is a third advantage, which is essential to know if we want to use the grid system wisely. Sometimes it doesn't make sense to replicate the exact layout of a desktop screen on a phone screen. Some components could be so reduced that they would become unreadable. Dash bootstrap allows you to define different dispositions according to the screen size. For example components could be placed side by side on a desktop, and on top of each other on a phone screen :\n",
    "\n",
    "![Dash grid-system columns and components illustration](./images/SizeScreen-grid-system-col.png)\n",
    "\n",
    "Dash bootstrap let you the possibility to specify positions for different size screen widths (directly related to columns width) : `xl` (extra-large), `lg` (large), `md` (medium), `sm` (small), `xs` (extra-small).\n",
    "\n",
    "The code is very simple, using a `dbc.Col()` class :\n",
    "\n",
    "```python\n",
    "# components will be placed one row below the other but on different columns\n",
    "dbc.Col(html.Div(…), lg={'offset': 1, 'size': 3}, xs=12)\n",
    "dbc.Col(html.Div(…), lg={'offset': 4, 'size': 4}, xs=12)\n",
    "…\n",
    "```\n",
    "\n",
    "If the device is a phone, the `xs` specification will be used, if it’s a large screen, `lg` specifications will prevail\n",
    "\n",
    "`offset` -> the column where the component left side is placed\n",
    "\n",
    "`size` -> width of the component, in number of columns\n",
    "\n",
    "If only a number is given -> width of the component.\n",
    "\n",
    "If no value is specified for the width, the component will span all columns.\n",
    "\n",
    "Of course you can also dispose the components side by side with a `dbc.Row()` class :\n",
    "\n",
    "```python\n",
    "dbc.Row([\n",
    "    #components will be placed side by side on the defined columns\n",
    "    dbc.Col(html.Div(…), lg={'offset': 1, 'size': 3}, xs=12),\n",
    "    dbc.Col(html.Div(…), lg={'offset': 4, 'size': 4}, xs=12),\n",
    "    …\n",
    "])\n",
    "```\n",
    "\n",
    "[Have a look on the Bootstap doc for more detailed explanations](https://dash-bootstrap-components.opensource.faculty.ai/docs/components/layout/)"
   ]
  },
  {
   "cell_type": "markdown",
   "id": "e341ffe6-ab46-4bdc-831e-4bee9125cece",
   "metadata": {},
   "source": [
    " #### Themes\n",
    "\n",
    " Dash Bootstrap proposes predefined themes. \n",
    " Simply re-instantiate the app (then reload the layout you want to test):"
   ]
  },
  {
   "cell_type": "code",
   "execution_count": null,
   "id": "ca0974c9-8a9c-4e01-974e-ce06ba53d960",
   "metadata": {},
   "outputs": [],
   "source": [
    "app = Dash(external_stylesheets=[dbc.themes.DARKLY]) # DARKLY theme"
   ]
  },
  {
   "cell_type": "markdown",
   "id": "c8f4972f-7508-423f-aa36-c0e284b1bed8",
   "metadata": {},
   "source": [
    " The full list of available themes is :\n",
    " * BOOTSTRAP (default)\n",
    " * CERULEAN,\n",
    " * COSMO,\n",
    " * CYBORG,\n",
    " * DARKLY,\n",
    " * FLATLY,\n",
    " * JOURNAL,\n",
    " * LITERA,\n",
    " * LUMEN,\n",
    " * LUX,\n",
    " * MATERIA,\n",
    " * MINTY,\n",
    " * MORPH,\n",
    " * PULSE,\n",
    " * QUARTZ,\n",
    " * SANDSTONE,\n",
    " * SIMPLEX,\n",
    " * SKETCHY,\n",
    " * SLATE,\n",
    " * SOLAR,\n",
    " * SPACELAB,\n",
    " * SUPERHERO,\n",
    " * UNITED,\n",
    " * VAPOR,\n",
    " * YETI,\n",
    " * ZEPHYR.\n",
    "\n",
    "[Link to themes demo are given in the documentation](https://dash-bootstrap-components.opensource.faculty.ai/docs/themes/#available-themes)"
   ]
  },
  {
   "cell_type": "markdown",
   "id": "c090dfa5-a512-411d-a20e-dc941b31b658",
   "metadata": {},
   "source": [
    "### Your turn !\n",
    "\n",
    "With all these elements and ressources, create a dashboard as described above, feel free to improve it as you wish! For example with a function to downlad the stock price the user would want to plot, by just writting a ticker in an input field. But for the moment, begin with something very simple.\n",
    "\n",
    "Remember, alway process step by step :\n",
    "\n",
    "1. create a dashboard that simply has a dropdown menu to chose between a small set of preloaded tickers and plot the corresponding stock price. For now, don't worry about how your dashboard looks, just chain the components. For now, we just want to see if we can manage to make things work\n",
    "2. add functions and controls to add SMA and/or EMA lines to your plot, and to remove them\n",
    "3. add input fields to change the duration (*k*) for moving averages (short and long)\n",
    "5. once your app works well, try to add a theme, place your component on a grid if you want, add titles, text explanations, etc.\n",
    "6. add other features that you think are missing\n",
    "\n",
    "If you’re using a notebook to code, at the end, when it works, don’t forget to create an independent `app.py` file and copy your code, to run your app as standalone (not from your notebook)."
   ]
  },
  {
   "cell_type": "code",
   "execution_count": null,
   "id": "49f7ec8b-5ba3-41a8-ba43-db1a4be446d6",
   "metadata": {},
   "outputs": [],
   "source": [
    "\n",
    "# your code here\n",
    "\n"
   ]
  },
  {
   "cell_type": "code",
   "execution_count": null,
   "id": "8e292e69-2471-4901-84d3-bc2ad8408a4e",
   "metadata": {},
   "outputs": [],
   "source": []
  }
 ],
 "metadata": {
  "kernelspec": {
   "display_name": "Python 3 (ipykernel)",
   "language": "python",
   "name": "python3"
  },
  "language_info": {
   "codemirror_mode": {
    "name": "ipython",
    "version": 3
   },
   "file_extension": ".py",
   "mimetype": "text/x-python",
   "name": "python",
   "nbconvert_exporter": "python",
   "pygments_lexer": "ipython3",
   "version": "3.11.2"
  }
 },
 "nbformat": 4,
 "nbformat_minor": 5
}
